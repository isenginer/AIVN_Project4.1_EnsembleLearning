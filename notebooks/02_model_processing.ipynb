{
 "cells": [
  {
   "metadata": {},
   "cell_type": "markdown",
   "source": [
    "# PROJECT 4.1 - ENSEMBLE LEARNING TECHNIQUE\n",
    "## `XGBoost, GradienBoost & Adaboost test`"
   ],
   "id": "f2243d2673091f46"
  },
  {
   "metadata": {
    "ExecuteTime": {
     "end_time": "2025-09-21T01:37:47.552132Z",
     "start_time": "2025-09-21T01:37:47.549067Z"
    }
   },
   "cell_type": "code",
   "source": [
    "# FOR PROJECT ROOT\n",
    "# Setup cell\n",
    "import sys\n",
    "import os\n",
    "import warnings\n",
    "\n",
    "from pandas.core.common import random_state\n",
    "from xgboost.callback import EarlyStopping\n",
    "\n",
    "warnings.filterwarnings('ignore')\n",
    "\n",
    "# Add project root to path\n",
    "if '..' not in sys.path:\n",
    "    sys.path.append('../')\n",
    "\n",
    "# Verify path\n",
    "print(\"Current working directory:\", os.getcwd())\n",
    "print(\"Python path includes:\", [p for p in sys.path if 'Project' in p])"
   ],
   "id": "b9df5ea8e12988f8",
   "outputs": [
    {
     "name": "stdout",
     "output_type": "stream",
     "text": [
      "Current working directory: /media/anhvt/DATA/10_AIO_VN/AIOVN_Main/Project 4.1_Ensemble Learning/notebooks\n",
      "Python path includes: ['/media/anhvt/DATA/10_AIO_VN/AIOVN_Main/Project 4.1_Ensemble Learning', '/media/anhvt/DATA/10_AIO_VN/AIOVN_Main/Project 4.1_Ensemble Learning/notebooks']\n"
     ]
    }
   ],
   "execution_count": 1
  },
  {
   "metadata": {},
   "cell_type": "markdown",
   "source": "## Load Library",
   "id": "9d2236e9ec669f90"
  },
  {
   "cell_type": "code",
   "id": "initial_id",
   "metadata": {
    "collapsed": true,
    "ExecuteTime": {
     "end_time": "2025-09-21T08:26:29.633383Z",
     "start_time": "2025-09-21T08:26:29.630560Z"
    }
   },
   "source": [
    "import matplotlib.pyplot as plt\n",
    "from sklearn.tree import DecisionTreeClassifier\n",
    "from sklearn.model_selection import cross_val_score\n",
    "from sklearn.metrics import classification_report, accuracy_score, confusion_matrix\n",
    "from xgboost import XGBClassifier, XGBRegressor\n",
    "from sklearn.ensemble import GradientBoostingClassifier, RandomForestClassifier, AdaBoostClassifier, AdaBoostRegressor, GradientBoostingRegressor\n",
    "import lightgbm as lgb\n",
    "import optuna"
   ],
   "outputs": [],
   "execution_count": 14
  },
  {
   "metadata": {
    "ExecuteTime": {
     "end_time": "2025-09-21T01:37:50.657378Z",
     "start_time": "2025-09-21T01:37:47.852633Z"
    }
   },
   "cell_type": "code",
   "source": [
    "import pandas as pd\n",
    "import numpy as np\n",
    "from utils.EmbeddingVectorizer import tfidf_vectorizer, bow_vectorizer, embedding_vectorizer\n",
    "from utils.text_preprocessing import category_numerical"
   ],
   "id": "35bc0bf659b8afea",
   "outputs": [],
   "execution_count": 3
  },
  {
   "metadata": {},
   "cell_type": "markdown",
   "source": "## 1. Import Data",
   "id": "52189769b38fe025"
  },
  {
   "metadata": {
    "ExecuteTime": {
     "end_time": "2025-09-21T01:37:50.733488Z",
     "start_time": "2025-09-21T01:37:50.716764Z"
    }
   },
   "cell_type": "code",
   "source": [
    "train_data = pd.read_csv(\"../dataset/train_data.csv\")\n",
    "test_data = pd.read_csv(\"../dataset/test_data.csv\")\n",
    "X_train = train_data.iloc[:, 0]\n",
    "X_test = test_data.iloc[:, 0]\n",
    "y_train = train_data.iloc[:, 1].map(category_numerical)\n",
    "y_test = test_data.iloc[:, 1].map(category_numerical)"
   ],
   "id": "41b69fc7ac124122",
   "outputs": [],
   "execution_count": 4
  },
  {
   "metadata": {},
   "cell_type": "markdown",
   "source": "Check the value of `y_train, y_test` to be converted to number & ensure no blank. If blank cell is available, we need to use `mean` or `prediction` this missing value",
   "id": "b8d1c46ed31eae96"
  },
  {
   "metadata": {
    "ExecuteTime": {
     "end_time": "2025-09-21T01:37:50.774174Z",
     "start_time": "2025-09-21T01:37:50.770950Z"
    }
   },
   "cell_type": "code",
   "source": [
    "check_train = y_train[y_train == 0].count()\n",
    "check_test = y_train[y_train == 0].count()\n",
    "if check_test == 0 and check_train == 0:\n",
    "    print(\"✅ No blank value from train & test target/ label\")\n",
    "print(y_train[:10])"
   ],
   "id": "ad8fa42a8dabd89d",
   "outputs": [
    {
     "name": "stdout",
     "output_type": "stream",
     "text": [
      "0    3\n",
      "1    5\n",
      "2    1\n",
      "3    2\n",
      "4    1\n",
      "5    1\n",
      "6    3\n",
      "7    4\n",
      "8    3\n",
      "9    5\n",
      "Name: categories, dtype: int64\n"
     ]
    }
   ],
   "execution_count": 5
  },
  {
   "metadata": {},
   "cell_type": "markdown",
   "source": "## 2.Embedding Data",
   "id": "dcbf5a93a18507ad"
  },
  {
   "metadata": {
    "ExecuteTime": {
     "end_time": "2025-09-21T01:44:17.145320Z",
     "start_time": "2025-09-21T01:37:50.825012Z"
    }
   },
   "cell_type": "code",
   "source": [
    "Xtrain_tfidf, Xtest_tfidf = tfidf_vectorizer(X_train=X_train, X_test=X_test)\n",
    "Xtrain_bow, Xtest_bow = bow_vectorizer(X_train=X_train, X_test=X_test)\n",
    "Xtrain_em, Xtest_em = embedding_vectorizer(X_train=X_train.tolist(), X_test=X_test.tolist())"
   ],
   "id": "134720f9243b02d6",
   "outputs": [
    {
     "name": "stdout",
     "output_type": "stream",
     "text": [
      "EmbeddingVectorizer initialized with model: intfloat/multilingual-e5-base on device: cpu\n"
     ]
    }
   ],
   "execution_count": 6
  },
  {
   "metadata": {},
   "cell_type": "markdown",
   "source": "## 3. Test Model",
   "id": "fe393ed91b8faeca"
  },
  {
   "metadata": {},
   "cell_type": "markdown",
   "source": [
    "We try Optuna for DT & RF because low speed of local calculation in laptop. The purpose of using Optuna is to verify the function of Optuna with Tree\n",
    "\n"
   ],
   "id": "5fd8939b8525c858"
  },
  {
   "metadata": {
    "ExecuteTime": {
     "end_time": "2025-09-21T13:36:53.420254Z",
     "start_time": "2025-09-21T13:36:53.415436Z"
    }
   },
   "cell_type": "code",
   "source": [
    "def decision_tree_model(X_train, X_test, y_train, y_test):\n",
    "    \"\"\"\n",
    "    This model to verify the accuracy of the decision tree in classification model\n",
    "    :return: prediction, accuracy of the decision tree\n",
    "    \"\"\"\n",
    "    param_grid = {\"max_depth\": 10,\n",
    "                  \"min_samples_split\": 20,\n",
    "                  \"min_samples_leaf\": 10,\n",
    "                  \"criterion\": \"gini\",\n",
    "                  \"max_features\": \"sqrt\",\n",
    "                  \"random_state\": 42,\n",
    "\n",
    "                  }\n",
    "    dtc = DecisionTreeClassifier(**param_grid)\n",
    "    dtc.fit(X_train, y_train)\n",
    "\n",
    "    y_pred = dtc.predict(X_test)\n",
    "    score = accuracy_score(y_test, y_pred)\n",
    "    report = classification_report(y_test, y_pred)\n",
    "\n",
    "    return y_pred, score, report"
   ],
   "id": "5040c35be6ddb584",
   "outputs": [],
   "execution_count": 76
  },
  {
   "metadata": {
    "ExecuteTime": {
     "end_time": "2025-09-21T13:36:54.243616Z",
     "start_time": "2025-09-21T13:36:54.082620Z"
    }
   },
   "cell_type": "code",
   "source": [
    "print(\"Decision Tree with Empirical Parameters...\")\n",
    "_, dt_tf_accuracy, dt_tf_report = decision_tree_model(Xtrain_tfidf, Xtest_tfidf, y_train, y_test)\n",
    "_, dt_bow_accuracy, dt_bow_report = decision_tree_model(Xtrain_bow, Xtest_bow, y_train, y_test)\n",
    "_, dt_em_accuracy, dt_em_report = decision_tree_model(Xtrain_em, Xtest_em, y_train, y_test)\n",
    "\n",
    "print(f\" TfIdf vectorizer with DT accuracy: {dt_tf_accuracy}\")\n",
    "print(f\" BoW vectorizer with DT accuracy: {dt_bow_accuracy}\")\n",
    "print(f\" Emb. vectorizer with DT accuracy: {dt_em_accuracy}\")\n",
    "\n",
    "print(f\" TfIdf vectorizer with DT report: \\n{dt_tf_report}\")\n",
    "print(f\" BoW vectorizer with DT report: \\n{dt_bow_report}\")\n",
    "print(f\" Emb. vectorizer with DT report: \\n{dt_em_report}\")"
   ],
   "id": "d7c9aaf057e7883e",
   "outputs": [
    {
     "name": "stdout",
     "output_type": "stream",
     "text": [
      "Decision Tree with Empirical Parameters...\n",
      " TfIdf vectorizer with DT accuracy: 0.4675\n",
      " BoW vectorizer with DT accuracy: 0.46\n",
      " Emb. vectorizer with DT accuracy: 0.5475\n",
      " TfIdf vectorizer with DT report: \n",
      "              precision    recall  f1-score   support\n",
      "\n",
      "           0       0.00      0.00      0.00         9\n",
      "           1       0.35      0.31      0.33        59\n",
      "           2       0.49      0.24      0.32        75\n",
      "           3       0.69      0.50      0.58       113\n",
      "           4       0.41      0.86      0.56       109\n",
      "           5       0.00      0.00      0.00        35\n",
      "\n",
      "    accuracy                           0.47       400\n",
      "   macro avg       0.32      0.32      0.30       400\n",
      "weighted avg       0.45      0.47      0.42       400\n",
      "\n",
      " BoW vectorizer with DT report: \n",
      "              precision    recall  f1-score   support\n",
      "\n",
      "           0       0.00      0.00      0.00         9\n",
      "           1       0.33      0.37      0.35        59\n",
      "           2       0.49      0.23      0.31        75\n",
      "           3       0.68      0.46      0.55       113\n",
      "           4       0.42      0.85      0.56       109\n",
      "           5       0.00      0.00      0.00        35\n",
      "\n",
      "    accuracy                           0.46       400\n",
      "   macro avg       0.32      0.32      0.30       400\n",
      "weighted avg       0.45      0.46      0.42       400\n",
      "\n",
      " Emb. vectorizer with DT report: \n",
      "              precision    recall  f1-score   support\n",
      "\n",
      "           0       0.00      0.00      0.00         9\n",
      "           1       0.48      0.58      0.52        59\n",
      "           2       0.50      0.52      0.51        75\n",
      "           3       0.73      0.64      0.68       113\n",
      "           4       0.54      0.63      0.58       109\n",
      "           5       0.19      0.14      0.16        35\n",
      "\n",
      "    accuracy                           0.55       400\n",
      "   macro avg       0.41      0.42      0.41       400\n",
      "weighted avg       0.54      0.55      0.54       400\n",
      "\n"
     ]
    }
   ],
   "execution_count": 77
  },
  {
   "metadata": {
    "ExecuteTime": {
     "end_time": "2025-09-21T13:36:30.997033Z",
     "start_time": "2025-09-21T13:36:30.993769Z"
    }
   },
   "cell_type": "code",
   "source": [
    "def random_forest_model(X_train, X_test, y_train, y_test):\n",
    "    \"\"\"\n",
    "    Random Forest model shall learn the data from Vectorizers (TfIdf, BoW, EmbeddingVectorizer) then perform the trial on test set. After learning, from test set, the model will raise the error value then compare the performance of Random Forest to each method\n",
    "    :return accuracy report & classification report for model with each method\n",
    "    \"\"\"\n",
    "    para_grid = {\n",
    "        \"n_estimators\": 100,\n",
    "        \"max_depth\": 15,\n",
    "        \"min_samples_split\": 10,\n",
    "        \"min_samples_leaf\":5,\n",
    "        \"max_features\": \"sqrt\",\n",
    "        \"oob_score\": True\n",
    "    }\n",
    "    # first train\n",
    "    rfc = RandomForestClassifier(**para_grid)\n",
    "    rfc.fit(X_train, y_train)\n",
    "    y_pred = rfc.predict(X_test)\n",
    "\n",
    "    # Calculate metrics then export report:\n",
    "    accuracy = accuracy_score(y_test, y_pred)\n",
    "    report = classification_report(y_test, y_pred)\n",
    "    return y_pred, accuracy, report"
   ],
   "id": "eeaee0abaafab5f8",
   "outputs": [],
   "execution_count": 74
  },
  {
   "metadata": {
    "ExecuteTime": {
     "end_time": "2025-09-21T13:36:39.285062Z",
     "start_time": "2025-09-21T13:36:31.955934Z"
    }
   },
   "cell_type": "code",
   "source": [
    "print(\"Random Forest with Empirical Parameters...\")\n",
    "_, rf_tf_accuracy, rf_tf_report = random_forest_model(Xtrain_tfidf, Xtest_tfidf, y_train, y_test)\n",
    "_, rf_bow_accuracy, rf_bow_report = random_forest_model(Xtrain_bow, Xtest_bow, y_train, y_test)\n",
    "_, rf_em_accuracy, rf_em_report = random_forest_model(Xtrain_em, Xtest_em, y_train, y_test)\n",
    "\n",
    "print(f\" TfIdf vectorizer with RF accuracy: {rf_tf_accuracy}\")\n",
    "print(f\" BoW vectorizer with RF accuracy: {rf_bow_accuracy}\")\n",
    "print(f\" Emb. vectorizer with RF accuracy: {rf_em_accuracy}\")\n",
    "\n",
    "print(f\" TfIdf vectorizer with RF report: \\n{rf_tf_report}\")\n",
    "print(f\" BoW vectorizer with RF report: \\n{rf_bow_report}\")\n",
    "print(f\" Emb. vectorizer with RF report: \\n{rf_em_report}\")"
   ],
   "id": "1db339c1eb159cfd",
   "outputs": [
    {
     "name": "stdout",
     "output_type": "stream",
     "text": [
      "Random Forest with Empirical Parameters...\n",
      " TfIdf vectorizer with RF accuracy: 0.715\n",
      " BoW vectorizer with RF accuracy: 0.7125\n",
      " Emb. vectorizer with RF accuracy: 0.8075\n",
      " TfIdf vectorizer with RF report: \n",
      "              precision    recall  f1-score   support\n",
      "\n",
      "           0       0.00      0.00      0.00         9\n",
      "           1       1.00      0.81      0.90        59\n",
      "           2       0.75      0.59      0.66        75\n",
      "           3       0.89      0.80      0.84       113\n",
      "           4       0.54      0.95      0.69       109\n",
      "           5       0.00      0.00      0.00        35\n",
      "\n",
      "    accuracy                           0.71       400\n",
      "   macro avg       0.53      0.53      0.51       400\n",
      "weighted avg       0.69      0.71      0.68       400\n",
      "\n",
      " BoW vectorizer with RF report: \n",
      "              precision    recall  f1-score   support\n",
      "\n",
      "           0       0.00      0.00      0.00         9\n",
      "           1       0.98      0.83      0.90        59\n",
      "           2       0.75      0.55      0.63        75\n",
      "           3       0.84      0.81      0.83       113\n",
      "           4       0.56      0.94      0.70       109\n",
      "           5       0.00      0.00      0.00        35\n",
      "\n",
      "    accuracy                           0.71       400\n",
      "   macro avg       0.52      0.52      0.51       400\n",
      "weighted avg       0.67      0.71      0.67       400\n",
      "\n",
      " Emb. vectorizer with RF report: \n",
      "              precision    recall  f1-score   support\n",
      "\n",
      "           0       0.00      0.00      0.00         9\n",
      "           1       0.95      0.95      0.95        59\n",
      "           2       0.65      0.80      0.72        75\n",
      "           3       0.93      0.92      0.92       113\n",
      "           4       0.75      0.94      0.83       109\n",
      "           5       1.00      0.03      0.06        35\n",
      "\n",
      "    accuracy                           0.81       400\n",
      "   macro avg       0.71      0.61      0.58       400\n",
      "weighted avg       0.82      0.81      0.77       400\n",
      "\n"
     ]
    }
   ],
   "execution_count": 75
  },
  {
   "metadata": {
    "ExecuteTime": {
     "end_time": "2025-09-21T12:53:58.680308Z",
     "start_time": "2025-09-21T12:53:58.677052Z"
    }
   },
   "cell_type": "code",
   "source": [
    "def ada_boost_model(X_train, X_test, y_train, y_test):\n",
    "    \"\"\"\n",
    "    This model to verify the accuracy of the ada_boost in classification model\n",
    "    :return: prediction, accuracy of the adaboost in classification model\n",
    "    \"\"\"\n",
    "    param_grid = {\n",
    "        \"n_estimators\": 100,\n",
    "        \"learning_rate\": 0.1,\n",
    "        \"algorithm\": \"SAMME\",\n",
    "        \"random_state\": 42\n",
    "    }\n",
    "    adb = AdaBoostClassifier(**param_grid)\n",
    "    adb.fit(X_train, y_train)\n",
    "\n",
    "    # fit the parameters then report\n",
    "    y_pred = adb.predict(X_test)\n",
    "    score = accuracy_score(y_test, y_pred)\n",
    "    report = classification_report(y_test, y_pred)\n",
    "\n",
    "    return y_pred, score, report"
   ],
   "id": "d01889a2de7b25b2",
   "outputs": [],
   "execution_count": 62
  },
  {
   "metadata": {
    "ExecuteTime": {
     "end_time": "2025-09-21T12:55:09.941905Z",
     "start_time": "2025-09-21T12:53:59.825462Z"
    }
   },
   "cell_type": "code",
   "source": [
    "print(\"AdaBoost with Empirical Parameters...\")\n",
    "_, ada_tf_accuracy, ada_tf_report = ada_boost_model(Xtrain_tfidf, Xtest_tfidf, y_train, y_test)\n",
    "_, ada_bow_accuracy, ada_bow_report = ada_boost_model(Xtrain_bow, Xtest_bow, y_train, y_test)\n",
    "_, ada_em_accuracy, ada_em_report = ada_boost_model(Xtrain_em, Xtest_em, y_train, y_test)\n",
    "\n",
    "print(f\" TfIdf vectorizer with AdaBoost accuracy: {ada_tf_accuracy}\")\n",
    "print(f\" BoW vectorizer with AdaBoost accuracy: {ada_bow_accuracy}\")\n",
    "print(f\" Emb. vectorizer with AdaBoost accuracy: {ada_em_accuracy}\")\n",
    "\n",
    "print(f\" TfIdf vectorizer with AdaBoost report: \\n{ada_tf_report}\")\n",
    "print(f\" BoW vectorizer with AdaBoost report: \\n{ada_bow_report}\")\n",
    "print(f\" Emb. vectorizer with AdaBoost report: \\n{ada_em_report}\")"
   ],
   "id": "de9d7f98c41762af",
   "outputs": [
    {
     "name": "stdout",
     "output_type": "stream",
     "text": [
      "AdaBoost with Empricial Parameters...\n",
      "AdaBoost with Empricial Parameters...\n",
      "AdaBoost with Empricial Parameters...\n",
      " TfIdf vectorizer with AdaBoost accuracy: 0.5\n",
      " BoW vectorizer with AdaBoost accuracy: 0.5\n",
      " Emb. vectorizer with AdaBoost accuracy: 0.7175\n",
      " TfIdf vectorizer with AdaBoost report: \n",
      "              precision    recall  f1-score   support\n",
      "\n",
      "           0       0.00      0.00      0.00         9\n",
      "           1       1.00      0.37      0.54        59\n",
      "           2       0.00      0.00      0.00        75\n",
      "           3       0.86      0.63      0.72       113\n",
      "           4       0.36      0.98      0.53       109\n",
      "           5       0.00      0.00      0.00        35\n",
      "\n",
      "    accuracy                           0.50       400\n",
      "   macro avg       0.37      0.33      0.30       400\n",
      "weighted avg       0.49      0.50      0.43       400\n",
      "\n",
      " BoW vectorizer with AdaBoost report: \n",
      "              precision    recall  f1-score   support\n",
      "\n",
      "           0       0.00      0.00      0.00         9\n",
      "           1       1.00      0.39      0.56        59\n",
      "           2       0.00      0.00      0.00        75\n",
      "           3       0.86      0.62      0.72       113\n",
      "           4       0.36      0.98      0.53       109\n",
      "           5       0.00      0.00      0.00        35\n",
      "\n",
      "    accuracy                           0.50       400\n",
      "   macro avg       0.37      0.33      0.30       400\n",
      "weighted avg       0.49      0.50      0.43       400\n",
      "\n",
      " Emb. vectorizer with AdaBoost report: \n",
      "              precision    recall  f1-score   support\n",
      "\n",
      "           0       0.00      0.00      0.00         9\n",
      "           1       0.78      0.86      0.82        59\n",
      "           2       0.64      0.65      0.65        75\n",
      "           3       0.89      0.76      0.82       113\n",
      "           4       0.62      0.92      0.74       109\n",
      "           5       1.00      0.03      0.06        35\n",
      "\n",
      "    accuracy                           0.72       400\n",
      "   macro avg       0.66      0.54      0.51       400\n",
      "weighted avg       0.74      0.72      0.68       400\n",
      "\n"
     ]
    }
   ],
   "execution_count": 63
  },
  {
   "metadata": {
    "ExecuteTime": {
     "end_time": "2025-09-21T13:16:49.857859Z",
     "start_time": "2025-09-21T13:16:49.853902Z"
    }
   },
   "cell_type": "code",
   "source": [
    "def gradient_boost_model(X_train, X_test, y_train, y_test):\n",
    "    \"\"\"\n",
    "    This model to verify the accuracy of the gradient boost in classification model\n",
    "    :return: prediction, accuracy of the gradient boost in classification model\n",
    "    \"\"\"\n",
    "    param_grid = {\n",
    "        \"max_depth\": 3,\n",
    "        \"learning_rate\": 0.1,\n",
    "        \"subsample\": 0.8\n",
    "        }\n",
    "    gb = GradientBoostingClassifier(**param_grid)\n",
    "    gb.fit(X_train, y_train)\n",
    "\n",
    "    # fit the parameters then report\n",
    "    y_pred = gb.predict(X_test)\n",
    "    score = accuracy_score(y_test, y_pred)\n",
    "    report = classification_report(y_test, y_pred)\n",
    "\n",
    "    return y_pred, score, report"
   ],
   "id": "740ef5796aa89650",
   "outputs": [],
   "execution_count": 71
  },
  {
   "metadata": {
    "ExecuteTime": {
     "end_time": "2025-09-21T13:34:25.114442Z",
     "start_time": "2025-09-21T13:19:50.243444Z"
    }
   },
   "cell_type": "code",
   "source": [
    "print(\"Gradient Boost with Empirical Parameters...\")\n",
    "_, gb_tf_accuracy, gb_tf_report = gradient_boost_model(Xtrain_tfidf, Xtest_tfidf, y_train, y_test)\n",
    "_, gb_bow_accuracy, gb_bow_report = gradient_boost_model(Xtrain_bow, Xtest_bow, y_train, y_test)\n",
    "_, gb_em_accuracy, gb_em_report = gradient_boost_model(Xtrain_em, Xtest_em, y_train, y_test)\n",
    "\n",
    "print(f\" TfIdf vectorizer with GradientBoost accuracy: {gb_tf_accuracy}\")\n",
    "print(f\" BoW vectorizer with GradientBoost accuracy: {gb_bow_accuracy}\")\n",
    "print(f\" Emb. vectorizer with GradientBoost accuracy: {gb_em_accuracy}\")\n",
    "\n",
    "print(f\" TfIdf vectorizer with GradientBoost report: \\n{gb_tf_report}\")\n",
    "print(f\" BoW vectorizer with GradientBoost report: \\n{gb_bow_report}\")\n",
    "print(f\" Emb. vectorizer with GradientBoost report: \\n{gb_em_report}\")"
   ],
   "id": "1d6740732317d426",
   "outputs": [
    {
     "name": "stdout",
     "output_type": "stream",
     "text": [
      "Gradient Boost with Empirical Parameters...\n",
      " TfIdf vectorizer with GradientBoost accuracy: 0.7875\n",
      " BoW vectorizer with GradientBoost accuracy: 0.7675\n",
      " Emb. vectorizer with GradientBoost accuracy: 0.8225\n",
      " TfIdf vectorizer with GradientBoost report: \n",
      "              precision    recall  f1-score   support\n",
      "\n",
      "           0       0.00      0.00      0.00         9\n",
      "           1       0.93      0.95      0.94        59\n",
      "           2       0.75      0.76      0.75        75\n",
      "           3       0.88      0.81      0.84       113\n",
      "           4       0.70      0.92      0.80       109\n",
      "           5       0.61      0.31      0.42        35\n",
      "\n",
      "    accuracy                           0.79       400\n",
      "   macro avg       0.65      0.62      0.63       400\n",
      "weighted avg       0.77      0.79      0.77       400\n",
      "\n",
      " BoW vectorizer with GradientBoost report: \n",
      "              precision    recall  f1-score   support\n",
      "\n",
      "           0       0.00      0.00      0.00         9\n",
      "           1       0.92      0.93      0.92        59\n",
      "           2       0.72      0.75      0.73        75\n",
      "           3       0.85      0.82      0.83       113\n",
      "           4       0.68      0.85      0.76       109\n",
      "           5       0.71      0.29      0.41        35\n",
      "\n",
      "    accuracy                           0.77       400\n",
      "   macro avg       0.65      0.61      0.61       400\n",
      "weighted avg       0.76      0.77      0.75       400\n",
      "\n",
      " Emb. vectorizer with GradientBoost report: \n",
      "              precision    recall  f1-score   support\n",
      "\n",
      "           0       0.25      0.11      0.15         9\n",
      "           1       0.95      0.95      0.95        59\n",
      "           2       0.72      0.77      0.75        75\n",
      "           3       0.93      0.89      0.91       113\n",
      "           4       0.80      0.88      0.84       109\n",
      "           5       0.61      0.49      0.54        35\n",
      "\n",
      "    accuracy                           0.82       400\n",
      "   macro avg       0.71      0.68      0.69       400\n",
      "weighted avg       0.81      0.82      0.82       400\n",
      "\n"
     ]
    }
   ],
   "execution_count": 73
  },
  {
   "metadata": {
    "ExecuteTime": {
     "end_time": "2025-09-21T13:38:36.345574Z",
     "start_time": "2025-09-21T13:38:36.341478Z"
    }
   },
   "cell_type": "code",
   "source": [
    "def xgboost_model(X_train, X_test, y_train, y_test):\n",
    "    \"\"\"\n",
    "    This model to verify the accuracy of the XGboost in classification model\n",
    "    :return: prediction, accuracy of the XGboost in classification model\n",
    "    \"\"\"\n",
    "    param_grid = {\n",
    "        \"max_depth\": 6,\n",
    "        \"learning_rate\": 0.1,\n",
    "        \"colsample_bytree\": 0.1,\n",
    "        \"reg_lambda\": 1\n",
    "        }\n",
    "    xgb = XGBClassifier(**param_grid)\n",
    "    xgb.fit(X_train, y_train)\n",
    "\n",
    "    # fit the parameters then report\n",
    "    y_pred = xgb.predict(X_test)\n",
    "    score = accuracy_score(y_test, y_pred)\n",
    "    report = classification_report(y_test, y_pred)\n",
    "\n",
    "    return y_pred, score, report"
   ],
   "id": "de88c28cbb7cad23",
   "outputs": [],
   "execution_count": 78
  },
  {
   "metadata": {
    "ExecuteTime": {
     "end_time": "2025-09-21T13:41:32.409764Z",
     "start_time": "2025-09-21T13:38:41.851719Z"
    }
   },
   "cell_type": "code",
   "source": [
    "print(\"XGBoost with Empirical Parameters...\")\n",
    "_, xgb_tf_accuracy, xgb_tf_report = xgboost_model(Xtrain_tfidf, Xtest_tfidf, y_train, y_test)\n",
    "_, xgb_bow_accuracy, xgb_bow_report = xgboost_model(Xtrain_bow, Xtest_bow, y_train, y_test)\n",
    "_, xgb_em_accuracy, xgb_em_report = xgboost_model(Xtrain_em, Xtest_em, y_train, y_test)\n",
    "\n",
    "print(f\" TfIdf vectorizer with XGBoost accuracy: {gb_tf_accuracy}\")\n",
    "print(f\" BoW vectorizer with XGBoost accuracy: {gb_bow_accuracy}\")\n",
    "print(f\" Emb. vectorizer with XGBoost accuracy: {gb_em_accuracy}\")"
   ],
   "id": "9c74484f7d577834",
   "outputs": [
    {
     "name": "stdout",
     "output_type": "stream",
     "text": [
      "XGBoost with Empirical Parameters...\n",
      " TfIdf vectorizer with XGBoost accuracy: 0.7875\n",
      " BoW vectorizer with XGBoost accuracy: 0.7675\n",
      " Emb. vectorizer with XGBoost accuracy: 0.8225\n"
     ]
    }
   ],
   "execution_count": 79
  },
  {
   "metadata": {},
   "cell_type": "code",
   "outputs": [],
   "execution_count": null,
   "source": "",
   "id": "85f677bb39831ca0"
  }
 ],
 "metadata": {
  "kernelspec": {
   "display_name": "Python 3",
   "language": "python",
   "name": "python3"
  },
  "language_info": {
   "codemirror_mode": {
    "name": "ipython",
    "version": 2
   },
   "file_extension": ".py",
   "mimetype": "text/x-python",
   "name": "python",
   "nbconvert_exporter": "python",
   "pygments_lexer": "ipython2",
   "version": "2.7.6"
  }
 },
 "nbformat": 4,
 "nbformat_minor": 5
}
