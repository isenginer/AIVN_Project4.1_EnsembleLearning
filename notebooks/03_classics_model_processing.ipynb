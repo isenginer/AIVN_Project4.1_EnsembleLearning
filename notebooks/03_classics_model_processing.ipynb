{
 "cells": [
  {
   "metadata": {},
   "cell_type": "markdown",
   "source": [
    "# PROJECT 4.1 - ENSEMBLE LEARNING TECHNIQUE\n",
    "## `Classical Model Processing:`\n",
    "`KNN, K-Means, Gaussian (NB)`"
   ],
   "id": "a303e7cc4d572149"
  },
  {
   "metadata": {},
   "cell_type": "markdown",
   "source": "## 1. IMPORT DATA",
   "id": "d3d2b7c4429d989c"
  },
  {
   "cell_type": "code",
   "id": "initial_id",
   "metadata": {
    "collapsed": true,
    "ExecuteTime": {
     "end_time": "2025-09-25T10:15:41.833132Z",
     "start_time": "2025-09-25T10:15:41.447498Z"
    }
   },
   "source": [
    "from utils.data_storage import load_all_vectorizers\n",
    "Xtrain_tfidf, Xtest_tfidf, Xtrain_bow, Xtest_bow, Xtrain_em, Xtest_em, y_train, y_test = load_all_vectorizers()"
   ],
   "outputs": [
    {
     "name": "stdout",
     "output_type": "stream",
     "text": [
      "Succesfully loaded all vectorizers and vector representations\n"
     ]
    }
   ],
   "execution_count": 1
  },
  {
   "metadata": {
    "ExecuteTime": {
     "end_time": "2025-09-25T10:16:01.418305Z",
     "start_time": "2025-09-25T10:16:01.415130Z"
    }
   },
   "cell_type": "code",
   "source": [
    "print(Xtrain_em.shape)\n",
    "print(Xtest_em.shape)"
   ],
   "id": "4ad17798c4ed6a99",
   "outputs": [
    {
     "name": "stdout",
     "output_type": "stream",
     "text": [
      "(1600, 768)\n",
      "(400, 768)\n"
     ]
    }
   ],
   "execution_count": 2
  },
  {
   "metadata": {},
   "cell_type": "code",
   "outputs": [],
   "execution_count": null,
   "source": "",
   "id": "9520d22e2a822e4b"
  }
 ],
 "metadata": {
  "kernelspec": {
   "display_name": "Python 3",
   "language": "python",
   "name": "python3"
  },
  "language_info": {
   "codemirror_mode": {
    "name": "ipython",
    "version": 2
   },
   "file_extension": ".py",
   "mimetype": "text/x-python",
   "name": "python",
   "nbconvert_exporter": "python",
   "pygments_lexer": "ipython2",
   "version": "2.7.6"
  }
 },
 "nbformat": 4,
 "nbformat_minor": 5
}
