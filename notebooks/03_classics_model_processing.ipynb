{
 "cells": [
  {
   "metadata": {},
   "cell_type": "markdown",
   "source": [
    "# PROJECT 4.1 - ENSEMBLE LEARNING TECHNIQUE\n",
    "## `Classical Model Processing:`\n",
    "`KNN, K-Means, Gaussian (NB)`"
   ],
   "id": "a303e7cc4d572149"
  },
  {
   "metadata": {},
   "cell_type": "markdown",
   "source": "### IMPORT LIBRARY",
   "id": "abc352eb9fc0a5cd"
  },
  {
   "metadata": {
    "ExecuteTime": {
     "end_time": "2025-09-25T14:16:32.192594Z",
     "start_time": "2025-09-25T14:16:28.907921Z"
    }
   },
   "cell_type": "code",
   "source": [
    "from gradio.themes.utils.colors import green\n",
    "from sklearn.naive_bayes import GaussianNB\n",
    "from sklearn.neighbors import KNeighborsClassifier, KNeighborsRegressor\n",
    "from sklearn.cluster import KMeans\n",
    "from sklearn.metrics import confusion_matrix, accuracy_score, classification_report\n",
    "from sklearn.model_selection import GridSearchCV, RandomizedSearchCV\n",
    "\n",
    "from i_test_module import y_pred"
   ],
   "id": "2bdda8243beab4f9",
   "outputs": [],
   "execution_count": 6
  },
  {
   "metadata": {
    "ExecuteTime": {
     "end_time": "2025-09-25T14:17:55.760592Z",
     "start_time": "2025-09-25T14:17:55.756806Z"
    }
   },
   "cell_type": "code",
   "source": [
    "import warnings\n",
    "warnings.filterwarnings('ignore')"
   ],
   "id": "c6729babf462c6ed",
   "outputs": [],
   "execution_count": 9
  },
  {
   "metadata": {},
   "cell_type": "markdown",
   "source": "## 1. IMPORT DATA",
   "id": "d3d2b7c4429d989c"
  },
  {
   "cell_type": "code",
   "id": "initial_id",
   "metadata": {
    "collapsed": true,
    "ExecuteTime": {
     "end_time": "2025-09-25T10:15:41.833132Z",
     "start_time": "2025-09-25T10:15:41.447498Z"
    }
   },
   "source": [
    "from utils.data_storage import load_all_vectorizers\n",
    "Xtrain_tfidf, Xtest_tfidf, Xtrain_bow, Xtest_bow, Xtrain_em, Xtest_em, y_train, y_test = load_all_vectorizers()"
   ],
   "outputs": [
    {
     "name": "stdout",
     "output_type": "stream",
     "text": [
      "Succesfully loaded all vectorizers and vector representations\n"
     ]
    }
   ],
   "execution_count": 1
  },
  {
   "metadata": {
    "ExecuteTime": {
     "end_time": "2025-09-25T10:16:01.418305Z",
     "start_time": "2025-09-25T10:16:01.415130Z"
    }
   },
   "cell_type": "code",
   "source": [
    "print(Xtrain_em.shape)\n",
    "print(Xtest_em.shape)"
   ],
   "id": "4ad17798c4ed6a99",
   "outputs": [
    {
     "name": "stdout",
     "output_type": "stream",
     "text": [
      "(1600, 768)\n",
      "(400, 768)\n"
     ]
    }
   ],
   "execution_count": 2
  },
  {
   "metadata": {},
   "cell_type": "markdown",
   "source": "## 2. FIT TO MODEL AND TUNING",
   "id": "9bc56c265d877d34"
  },
  {
   "metadata": {},
   "cell_type": "markdown",
   "source": "### **GAUSSIAN NB**",
   "id": "dc3ad473672949ab"
  },
  {
   "metadata": {
    "ExecuteTime": {
     "end_time": "2025-09-25T14:16:36.064897Z",
     "start_time": "2025-09-25T14:16:36.057184Z"
    }
   },
   "cell_type": "code",
   "source": [
    "def gaussian_nb_tuning(X_train, X_test, y_train, y_test):\n",
    "    \"\"\"\n",
    "\n",
    "    :param X_train:\n",
    "    :param X_test:\n",
    "    :param y_train:\n",
    "    :param y_test:\n",
    "    :return:\n",
    "    \"\"\"\n",
    "    print(\"⏫ Tuning for Gaussian NB\")\n",
    "    param_grid = {\n",
    "        \"var_smoothing\": [1e-9, 1e-10, 1e-11, 1e-8, 1e-7, 1e-6, 1e-5, 1e-4, 1e-3, 1e-2, 1e-1, 1.0]\n",
    "    }\n",
    "    gnb = GaussianNB()\n",
    "    grid_search_nb = GridSearchCV(\n",
    "        gnb,\n",
    "        param_grid,\n",
    "        cv=5,\n",
    "        scoring=\"accuracy\",\n",
    "        n_jobs=1,\n",
    "        verbose=2,\n",
    "    )\n",
    "    grid_search_nb.fit(X_train, y_train)\n",
    "\n",
    "    # Show out best estimator\n",
    "    print(f\"✅ Grid search best parameters: {grid_search_nb.best_params_}\")\n",
    "    print(f\"✅ Grid search best score: {grid_search_nb.best_score_}\")\n",
    "\n",
    "    optimized_gnb = grid_search_nb.best_estimator_\n",
    "    y_pred = optimized_gnb.predict(X_test)\n",
    "    score = accuracy_score(y_test, y_pred)\n",
    "    report = classification_report(y_test, y_pred)\n",
    "\n",
    "    return y_pred, score, report"
   ],
   "id": "9520d22e2a822e4b",
   "outputs": [],
   "execution_count": 7
  },
  {
   "metadata": {
    "ExecuteTime": {
     "end_time": "2025-09-25T14:20:11.814995Z",
     "start_time": "2025-09-25T14:19:07.925668Z"
    }
   },
   "cell_type": "code",
   "source": [
    "_, gb_tfidf_accuracy, gb_tfidf_report = gaussian_nb_tuning(Xtrain_tfidf, Xtest_tfidf, y_train, y_test)\n",
    "_, gb_bow_accuracy, gb_bow_report = gaussian_nb_tuning(Xtrain_bow, Xtest_bow, y_train, y_test)\n",
    "_, gb_embeddings_accuracy, gb_embeddings_report = gaussian_nb_tuning(Xtrain_em, Xtest_em, y_train, y_test)\n",
    "\n",
    "print(\"✅ the accuracy of Tfidf with Gaussian NB is: \", gb_tfidf_accuracy)\n",
    "print(\"✅ the accuracy of Bow with Gaussian NB is: \", gb_bow_accuracy)\n",
    "print(\"✅ the accuracy of Em with Gaussian NB is: \", gb_embeddings_accuracy)"
   ],
   "id": "80a724fd2ac7fe5",
   "outputs": [
    {
     "name": "stdout",
     "output_type": "stream",
     "text": [
      "⏫ Tuning for Gaussian NB\n",
      "Fitting 5 folds for each of 12 candidates, totalling 60 fits\n",
      "[CV] END ................................var_smoothing=1e-09; total time=   0.5s\n",
      "[CV] END ................................var_smoothing=1e-09; total time=   0.5s\n",
      "[CV] END ................................var_smoothing=1e-09; total time=   0.5s\n",
      "[CV] END ................................var_smoothing=1e-09; total time=   0.5s\n",
      "[CV] END ................................var_smoothing=1e-09; total time=   0.5s\n",
      "[CV] END ................................var_smoothing=1e-10; total time=   0.5s\n",
      "[CV] END ................................var_smoothing=1e-10; total time=   0.5s\n",
      "[CV] END ................................var_smoothing=1e-10; total time=   0.5s\n",
      "[CV] END ................................var_smoothing=1e-10; total time=   0.5s\n",
      "[CV] END ................................var_smoothing=1e-10; total time=   0.5s\n",
      "[CV] END ................................var_smoothing=1e-11; total time=   0.5s\n",
      "[CV] END ................................var_smoothing=1e-11; total time=   0.5s\n",
      "[CV] END ................................var_smoothing=1e-11; total time=   0.5s\n",
      "[CV] END ................................var_smoothing=1e-11; total time=   0.5s\n",
      "[CV] END ................................var_smoothing=1e-11; total time=   0.5s\n",
      "[CV] END ................................var_smoothing=1e-08; total time=   0.5s\n",
      "[CV] END ................................var_smoothing=1e-08; total time=   0.5s\n",
      "[CV] END ................................var_smoothing=1e-08; total time=   0.5s\n",
      "[CV] END ................................var_smoothing=1e-08; total time=   0.5s\n",
      "[CV] END ................................var_smoothing=1e-08; total time=   0.5s\n",
      "[CV] END ................................var_smoothing=1e-07; total time=   0.5s\n",
      "[CV] END ................................var_smoothing=1e-07; total time=   0.5s\n",
      "[CV] END ................................var_smoothing=1e-07; total time=   0.5s\n",
      "[CV] END ................................var_smoothing=1e-07; total time=   0.5s\n",
      "[CV] END ................................var_smoothing=1e-07; total time=   0.5s\n",
      "[CV] END ................................var_smoothing=1e-06; total time=   0.5s\n",
      "[CV] END ................................var_smoothing=1e-06; total time=   0.5s\n",
      "[CV] END ................................var_smoothing=1e-06; total time=   0.5s\n",
      "[CV] END ................................var_smoothing=1e-06; total time=   0.5s\n",
      "[CV] END ................................var_smoothing=1e-06; total time=   0.5s\n",
      "[CV] END ................................var_smoothing=1e-05; total time=   0.5s\n",
      "[CV] END ................................var_smoothing=1e-05; total time=   0.5s\n",
      "[CV] END ................................var_smoothing=1e-05; total time=   0.5s\n",
      "[CV] END ................................var_smoothing=1e-05; total time=   0.5s\n",
      "[CV] END ................................var_smoothing=1e-05; total time=   0.5s\n",
      "[CV] END ...............................var_smoothing=0.0001; total time=   0.5s\n",
      "[CV] END ...............................var_smoothing=0.0001; total time=   0.5s\n",
      "[CV] END ...............................var_smoothing=0.0001; total time=   0.5s\n",
      "[CV] END ...............................var_smoothing=0.0001; total time=   0.5s\n",
      "[CV] END ...............................var_smoothing=0.0001; total time=   0.5s\n",
      "[CV] END ................................var_smoothing=0.001; total time=   0.5s\n",
      "[CV] END ................................var_smoothing=0.001; total time=   0.5s\n",
      "[CV] END ................................var_smoothing=0.001; total time=   0.5s\n",
      "[CV] END ................................var_smoothing=0.001; total time=   0.5s\n",
      "[CV] END ................................var_smoothing=0.001; total time=   0.5s\n",
      "[CV] END .................................var_smoothing=0.01; total time=   0.5s\n",
      "[CV] END .................................var_smoothing=0.01; total time=   0.5s\n",
      "[CV] END .................................var_smoothing=0.01; total time=   0.5s\n",
      "[CV] END .................................var_smoothing=0.01; total time=   0.5s\n",
      "[CV] END .................................var_smoothing=0.01; total time=   0.5s\n",
      "[CV] END ..................................var_smoothing=0.1; total time=   0.5s\n",
      "[CV] END ..................................var_smoothing=0.1; total time=   0.5s\n",
      "[CV] END ..................................var_smoothing=0.1; total time=   0.5s\n",
      "[CV] END ..................................var_smoothing=0.1; total time=   0.5s\n",
      "[CV] END ..................................var_smoothing=0.1; total time=   0.5s\n",
      "[CV] END ..................................var_smoothing=1.0; total time=   0.5s\n",
      "[CV] END ..................................var_smoothing=1.0; total time=   0.5s\n",
      "[CV] END ..................................var_smoothing=1.0; total time=   0.5s\n",
      "[CV] END ..................................var_smoothing=1.0; total time=   0.5s\n",
      "[CV] END ..................................var_smoothing=1.0; total time=   0.5s\n",
      "✅ Grid search best parameters: {'var_smoothing': 0.001}\n",
      "✅ Grid search best score: 0.79\n",
      "⏫ Tuning for Gaussian NB\n",
      "Fitting 5 folds for each of 12 candidates, totalling 60 fits\n",
      "[CV] END ................................var_smoothing=1e-09; total time=   0.6s\n",
      "[CV] END ................................var_smoothing=1e-09; total time=   0.5s\n",
      "[CV] END ................................var_smoothing=1e-09; total time=   0.5s\n",
      "[CV] END ................................var_smoothing=1e-09; total time=   0.5s\n",
      "[CV] END ................................var_smoothing=1e-09; total time=   0.5s\n",
      "[CV] END ................................var_smoothing=1e-10; total time=   0.5s\n",
      "[CV] END ................................var_smoothing=1e-10; total time=   0.6s\n",
      "[CV] END ................................var_smoothing=1e-10; total time=   0.5s\n",
      "[CV] END ................................var_smoothing=1e-10; total time=   0.5s\n",
      "[CV] END ................................var_smoothing=1e-10; total time=   0.6s\n",
      "[CV] END ................................var_smoothing=1e-11; total time=   0.6s\n",
      "[CV] END ................................var_smoothing=1e-11; total time=   0.5s\n",
      "[CV] END ................................var_smoothing=1e-11; total time=   0.5s\n",
      "[CV] END ................................var_smoothing=1e-11; total time=   0.4s\n",
      "[CV] END ................................var_smoothing=1e-11; total time=   0.4s\n",
      "[CV] END ................................var_smoothing=1e-08; total time=   0.4s\n",
      "[CV] END ................................var_smoothing=1e-08; total time=   0.4s\n",
      "[CV] END ................................var_smoothing=1e-08; total time=   0.5s\n",
      "[CV] END ................................var_smoothing=1e-08; total time=   0.5s\n",
      "[CV] END ................................var_smoothing=1e-08; total time=   0.6s\n",
      "[CV] END ................................var_smoothing=1e-07; total time=   0.5s\n",
      "[CV] END ................................var_smoothing=1e-07; total time=   0.5s\n",
      "[CV] END ................................var_smoothing=1e-07; total time=   0.6s\n",
      "[CV] END ................................var_smoothing=1e-07; total time=   0.5s\n",
      "[CV] END ................................var_smoothing=1e-07; total time=   0.6s\n",
      "[CV] END ................................var_smoothing=1e-06; total time=   0.6s\n",
      "[CV] END ................................var_smoothing=1e-06; total time=   0.6s\n",
      "[CV] END ................................var_smoothing=1e-06; total time=   0.6s\n",
      "[CV] END ................................var_smoothing=1e-06; total time=   0.5s\n",
      "[CV] END ................................var_smoothing=1e-06; total time=   0.5s\n",
      "[CV] END ................................var_smoothing=1e-05; total time=   0.6s\n",
      "[CV] END ................................var_smoothing=1e-05; total time=   0.6s\n",
      "[CV] END ................................var_smoothing=1e-05; total time=   0.5s\n",
      "[CV] END ................................var_smoothing=1e-05; total time=   0.6s\n",
      "[CV] END ................................var_smoothing=1e-05; total time=   0.6s\n",
      "[CV] END ...............................var_smoothing=0.0001; total time=   0.5s\n",
      "[CV] END ...............................var_smoothing=0.0001; total time=   0.6s\n",
      "[CV] END ...............................var_smoothing=0.0001; total time=   0.6s\n",
      "[CV] END ...............................var_smoothing=0.0001; total time=   0.5s\n",
      "[CV] END ...............................var_smoothing=0.0001; total time=   0.5s\n",
      "[CV] END ................................var_smoothing=0.001; total time=   0.5s\n",
      "[CV] END ................................var_smoothing=0.001; total time=   0.5s\n",
      "[CV] END ................................var_smoothing=0.001; total time=   0.5s\n",
      "[CV] END ................................var_smoothing=0.001; total time=   0.5s\n",
      "[CV] END ................................var_smoothing=0.001; total time=   0.6s\n",
      "[CV] END .................................var_smoothing=0.01; total time=   0.5s\n",
      "[CV] END .................................var_smoothing=0.01; total time=   0.5s\n",
      "[CV] END .................................var_smoothing=0.01; total time=   0.5s\n",
      "[CV] END .................................var_smoothing=0.01; total time=   0.5s\n",
      "[CV] END .................................var_smoothing=0.01; total time=   0.6s\n",
      "[CV] END ..................................var_smoothing=0.1; total time=   0.6s\n",
      "[CV] END ..................................var_smoothing=0.1; total time=   0.5s\n",
      "[CV] END ..................................var_smoothing=0.1; total time=   0.6s\n",
      "[CV] END ..................................var_smoothing=0.1; total time=   0.6s\n",
      "[CV] END ..................................var_smoothing=0.1; total time=   0.6s\n",
      "[CV] END ..................................var_smoothing=1.0; total time=   0.6s\n",
      "[CV] END ..................................var_smoothing=1.0; total time=   0.6s\n",
      "[CV] END ..................................var_smoothing=1.0; total time=   0.6s\n",
      "[CV] END ..................................var_smoothing=1.0; total time=   0.5s\n",
      "[CV] END ..................................var_smoothing=1.0; total time=   0.5s\n",
      "✅ Grid search best parameters: {'var_smoothing': 1e-05}\n",
      "✅ Grid search best score: 0.79\n",
      "⏫ Tuning for Gaussian NB\n",
      "Fitting 5 folds for each of 12 candidates, totalling 60 fits\n",
      "[CV] END ................................var_smoothing=1e-09; total time=   0.0s\n",
      "[CV] END ................................var_smoothing=1e-09; total time=   0.0s\n",
      "[CV] END ................................var_smoothing=1e-09; total time=   0.0s\n",
      "[CV] END ................................var_smoothing=1e-09; total time=   0.0s\n",
      "[CV] END ................................var_smoothing=1e-09; total time=   0.0s\n",
      "[CV] END ................................var_smoothing=1e-10; total time=   0.0s\n",
      "[CV] END ................................var_smoothing=1e-10; total time=   0.0s\n",
      "[CV] END ................................var_smoothing=1e-10; total time=   0.0s\n",
      "[CV] END ................................var_smoothing=1e-10; total time=   0.0s\n",
      "[CV] END ................................var_smoothing=1e-10; total time=   0.0s\n",
      "[CV] END ................................var_smoothing=1e-11; total time=   0.0s\n",
      "[CV] END ................................var_smoothing=1e-11; total time=   0.0s\n",
      "[CV] END ................................var_smoothing=1e-11; total time=   0.0s\n",
      "[CV] END ................................var_smoothing=1e-11; total time=   0.0s\n",
      "[CV] END ................................var_smoothing=1e-11; total time=   0.0s\n",
      "[CV] END ................................var_smoothing=1e-08; total time=   0.0s\n",
      "[CV] END ................................var_smoothing=1e-08; total time=   0.0s\n",
      "[CV] END ................................var_smoothing=1e-08; total time=   0.0s\n",
      "[CV] END ................................var_smoothing=1e-08; total time=   0.0s\n",
      "[CV] END ................................var_smoothing=1e-08; total time=   0.0s\n",
      "[CV] END ................................var_smoothing=1e-07; total time=   0.0s\n",
      "[CV] END ................................var_smoothing=1e-07; total time=   0.0s\n",
      "[CV] END ................................var_smoothing=1e-07; total time=   0.0s\n",
      "[CV] END ................................var_smoothing=1e-07; total time=   0.0s\n",
      "[CV] END ................................var_smoothing=1e-07; total time=   0.0s\n",
      "[CV] END ................................var_smoothing=1e-06; total time=   0.0s\n",
      "[CV] END ................................var_smoothing=1e-06; total time=   0.0s\n",
      "[CV] END ................................var_smoothing=1e-06; total time=   0.0s\n",
      "[CV] END ................................var_smoothing=1e-06; total time=   0.0s\n",
      "[CV] END ................................var_smoothing=1e-06; total time=   0.0s\n",
      "[CV] END ................................var_smoothing=1e-05; total time=   0.0s\n",
      "[CV] END ................................var_smoothing=1e-05; total time=   0.0s\n",
      "[CV] END ................................var_smoothing=1e-05; total time=   0.0s\n",
      "[CV] END ................................var_smoothing=1e-05; total time=   0.0s\n",
      "[CV] END ................................var_smoothing=1e-05; total time=   0.0s\n",
      "[CV] END ...............................var_smoothing=0.0001; total time=   0.0s\n",
      "[CV] END ...............................var_smoothing=0.0001; total time=   0.0s\n",
      "[CV] END ...............................var_smoothing=0.0001; total time=   0.0s\n",
      "[CV] END ...............................var_smoothing=0.0001; total time=   0.0s\n",
      "[CV] END ...............................var_smoothing=0.0001; total time=   0.0s\n",
      "[CV] END ................................var_smoothing=0.001; total time=   0.0s\n",
      "[CV] END ................................var_smoothing=0.001; total time=   0.0s\n",
      "[CV] END ................................var_smoothing=0.001; total time=   0.0s\n",
      "[CV] END ................................var_smoothing=0.001; total time=   0.0s\n",
      "[CV] END ................................var_smoothing=0.001; total time=   0.0s\n",
      "[CV] END .................................var_smoothing=0.01; total time=   0.0s\n",
      "[CV] END .................................var_smoothing=0.01; total time=   0.0s\n",
      "[CV] END .................................var_smoothing=0.01; total time=   0.0s\n",
      "[CV] END .................................var_smoothing=0.01; total time=   0.0s\n",
      "[CV] END .................................var_smoothing=0.01; total time=   0.0s\n",
      "[CV] END ..................................var_smoothing=0.1; total time=   0.0s\n",
      "[CV] END ..................................var_smoothing=0.1; total time=   0.0s\n",
      "[CV] END ..................................var_smoothing=0.1; total time=   0.0s\n",
      "[CV] END ..................................var_smoothing=0.1; total time=   0.0s\n",
      "[CV] END ..................................var_smoothing=0.1; total time=   0.0s\n",
      "[CV] END ..................................var_smoothing=1.0; total time=   0.0s\n",
      "[CV] END ..................................var_smoothing=1.0; total time=   0.0s\n",
      "[CV] END ..................................var_smoothing=1.0; total time=   0.0s\n",
      "[CV] END ..................................var_smoothing=1.0; total time=   0.0s\n",
      "[CV] END ..................................var_smoothing=1.0; total time=   0.0s\n",
      "✅ Grid search best parameters: {'var_smoothing': 0.1}\n",
      "✅ Grid search best score: 0.8318749999999999\n",
      "✅ the accuracy of Tfidf with Gaussian NB is:  0.7925\n",
      "✅ the accuracy of Bow with Gaussian NB is:  0.785\n",
      "✅ the accuracy of Em with Gaussian NB is:  0.8275\n"
     ]
    }
   ],
   "execution_count": 10
  },
  {
   "metadata": {},
   "cell_type": "markdown",
   "source": "### **KNN**",
   "id": "e13c83f22484c783"
  },
  {
   "metadata": {
    "ExecuteTime": {
     "end_time": "2025-09-25T14:42:17.638274Z",
     "start_time": "2025-09-25T14:42:17.630237Z"
    }
   },
   "cell_type": "code",
   "source": [
    "def KNN_tuning(X_train, X_test, y_train, y_test):\n",
    "    \"\"\"\n",
    "    Hyperparameters tuning for KNN with GridSearchCV\n",
    "    :return:\n",
    "    \"\"\"\n",
    "    print(\"✅ Tuning for KNN\")\n",
    "    knn = KNeighborsClassifier()\n",
    "    param_grid = {\n",
    "        \"n_neighbors\": [3, 5, 7],\n",
    "        \"weights\": [\"uniform\", \"distance\"],\n",
    "        \"algorithm\": [\"auto\", \"ball_tree\", \"kd_tree\", \"brute\"],\n",
    "        \"metric\": [\"euclidean\", \"manhattan\"],\n",
    "        \"p\": [1, 2] # only use with Minkowski\n",
    "    }\n",
    "    random_search_knn = RandomizedSearchCV(\n",
    "        knn,\n",
    "        param_grid,\n",
    "        n_iter=100,\n",
    "        cv=5,\n",
    "        scoring=\"accuracy\",\n",
    "        n_jobs=1,\n",
    "        verbose=1,\n",
    "        random_state=42,\n",
    "    )\n",
    "    random_search_knn.fit(X_train, y_train)\n",
    "\n",
    "    # Best parameters after tuning\n",
    "    print(f\"✅ Random search best parameters: {random_search_knn.best_params_}\")\n",
    "    print(f\"✅ Random search best score: {random_search_knn.best_score_}\")\n",
    "\n",
    "    # show result\n",
    "    optimized_knn = random_search_knn.best_estimator_\n",
    "    y_pred = optimized_knn.predict(X_test)\n",
    "    score = accuracy_score(y_test, y_pred)\n",
    "    report = classification_report(y_test, y_pred)\n",
    "\n",
    "    return y_pred, score, report"
   ],
   "id": "26b39499ce82c8a4",
   "outputs": [],
   "execution_count": 14
  },
  {
   "metadata": {
    "ExecuteTime": {
     "end_time": "2025-09-25T15:45:05.466302Z",
     "start_time": "2025-09-25T14:42:18.473920Z"
    }
   },
   "cell_type": "code",
   "source": [
    "_, knn_tfidf_accuracy, knn_tfidf_report = KNN_tuning(Xtrain_tfidf, Xtest_tfidf, y_train, y_test)\n",
    "_, knn_bow_accuracy, knn_bow_report = KNN_tuning(Xtrain_bow, Xtest_bow, y_train, y_test)\n",
    "_, knn_embeddings_accuracy, knn_embeddings_report = KNN_tuning(Xtrain_em, Xtest_em, y_train, y_test)\n",
    "\n",
    "print(\"✅ the accuracy of Tfidf with KNN is: \", knn_tfidf_accuracy)\n",
    "print(\"✅ the accuracy of Bow with KNN is: \", knn_bow_accuracy)\n",
    "print(\"✅ the accuracy of Em with KNN is: \", knn_embeddings_accuracy)"
   ],
   "id": "3b1491495dbe0fc",
   "outputs": [
    {
     "name": "stdout",
     "output_type": "stream",
     "text": [
      "✅ Tuning for KNN\n",
      "Fitting 5 folds for each of 96 candidates, totalling 480 fits\n",
      "✅ Random search best parameters: {'weights': 'distance', 'p': 1, 'n_neighbors': 7, 'metric': 'euclidean', 'algorithm': 'auto'}\n",
      "✅ Random search best score: 0.7831249999999998\n",
      "✅ Tuning for KNN\n",
      "Fitting 5 folds for each of 96 candidates, totalling 480 fits\n",
      "✅ Random search best parameters: {'weights': 'uniform', 'p': 1, 'n_neighbors': 7, 'metric': 'euclidean', 'algorithm': 'auto'}\n",
      "✅ Random search best score: 0.415625\n",
      "✅ Tuning for KNN\n",
      "Fitting 5 folds for each of 96 candidates, totalling 480 fits\n",
      "✅ Random search best parameters: {'weights': 'distance', 'p': 1, 'n_neighbors': 5, 'metric': 'manhattan', 'algorithm': 'auto'}\n",
      "✅ Random search best score: 0.82875\n",
      "✅ the accuracy of Tfidf with KNN is:  0.7925\n",
      "✅ the accuracy of Bow with KNN is:  0.4025\n",
      "✅ the accuracy of Em with KNN is:  0.82\n"
     ]
    }
   ],
   "execution_count": 15
  },
  {
   "metadata": {},
   "cell_type": "code",
   "outputs": [],
   "execution_count": null,
   "source": "\n",
   "id": "2ea5ad9c917dd2af"
  }
 ],
 "metadata": {
  "kernelspec": {
   "display_name": "Python 3",
   "language": "python",
   "name": "python3"
  },
  "language_info": {
   "codemirror_mode": {
    "name": "ipython",
    "version": 2
   },
   "file_extension": ".py",
   "mimetype": "text/x-python",
   "name": "python",
   "nbconvert_exporter": "python",
   "pygments_lexer": "ipython2",
   "version": "2.7.6"
  }
 },
 "nbformat": 4,
 "nbformat_minor": 5
}
