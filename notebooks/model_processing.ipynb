{
 "cells": [
  {
   "metadata": {},
   "cell_type": "markdown",
   "source": [
    "# PROJECT 4.1 - ENSEMBLE LEARNING TECHNIQUE\n",
    "## `XGBoost, GradienBoost & Adaboost test`"
   ],
   "id": "f2243d2673091f46"
  },
  {
   "metadata": {
    "ExecuteTime": {
     "end_time": "2025-09-19T07:57:36.616971Z",
     "start_time": "2025-09-19T07:57:36.611467Z"
    }
   },
   "cell_type": "code",
   "source": [
    "# FOR PROJECT ROOT\n",
    "# Setup cell\n",
    "import sys\n",
    "import os\n",
    "import warnings\n",
    "warnings.filterwarnings('ignore')\n",
    "\n",
    "# Add project root to path\n",
    "if '..' not in sys.path:\n",
    "    sys.path.append('../')\n",
    "\n",
    "# Verify path\n",
    "print(\"Current working directory:\", os.getcwd())\n",
    "print(\"Python path includes:\", [p for p in sys.path if 'Project' in p])"
   ],
   "id": "b9df5ea8e12988f8",
   "outputs": [
    {
     "name": "stdout",
     "output_type": "stream",
     "text": [
      "Current working directory: /media/anhvt/DATA/10_AIO_VN/AIOVN_Main/Project 4.1_Ensemble Learning/notebooks\n",
      "Python path includes: ['/media/anhvt/DATA/10_AIO_VN/AIOVN_Main/Project 4.1_Ensemble Learning']\n"
     ]
    }
   ],
   "execution_count": 28
  },
  {
   "metadata": {},
   "cell_type": "markdown",
   "source": "## Load Library",
   "id": "9d2236e9ec669f90"
  },
  {
   "cell_type": "code",
   "id": "initial_id",
   "metadata": {
    "collapsed": true,
    "ExecuteTime": {
     "end_time": "2025-09-19T07:40:37.576456Z",
     "start_time": "2025-09-19T07:40:37.572988Z"
    }
   },
   "source": [
    "import matplotlib.pyplot as plt\n",
    "from sklearn.tree import DecisionTreeClassifier\n",
    "from sklearn.metrics import classification_report, accuracy_score, confusion_matrix\n",
    "from xgboost import XGBClassifier, XGBRegressor\n",
    "from sklearn.ensemble import GradientBoostingClassifier, RandomForestClassifier, AdaBoostClassifier, AdaBoostRegressor, GradientBoostingRegressor\n",
    "import lightgbm as lgb"
   ],
   "outputs": [],
   "execution_count": 22
  },
  {
   "metadata": {
    "ExecuteTime": {
     "end_time": "2025-09-19T07:25:31.583132Z",
     "start_time": "2025-09-19T07:25:31.580346Z"
    }
   },
   "cell_type": "code",
   "source": [
    "import pandas as pd\n",
    "import numpy as np\n",
    "from utils.EmbeddingVectorizer import tfidf_vectorizer, bow_vectorizer, embedding_vectorizer\n",
    "from utils.text_preprocessing import category_numerical"
   ],
   "id": "35bc0bf659b8afea",
   "outputs": [],
   "execution_count": 18
  },
  {
   "metadata": {},
   "cell_type": "markdown",
   "source": "## 1. Import Data",
   "id": "52189769b38fe025"
  },
  {
   "metadata": {
    "ExecuteTime": {
     "end_time": "2025-09-19T06:59:17.287222Z",
     "start_time": "2025-09-19T06:59:17.268207Z"
    }
   },
   "cell_type": "code",
   "source": [
    "train_data = pd.read_csv(\"../dataset/train_data.csv\")\n",
    "test_data = pd.read_csv(\"../dataset/test_data.csv\")\n",
    "X_train = train_data.iloc[:, 0]\n",
    "X_test = test_data.iloc[:, 0]\n",
    "y_train = train_data.iloc[:, 1].map(category_numerical)\n",
    "y_test = test_data.iloc[:, 1].map(category_numerical)"
   ],
   "id": "41b69fc7ac124122",
   "outputs": [],
   "execution_count": 2
  },
  {
   "metadata": {},
   "cell_type": "markdown",
   "source": "Check the value of `y_train, y_test` to be converted to number & ensure no blank. If blank cell is available, we need to use `mean` or `prediction` this missing value",
   "id": "b8d1c46ed31eae96"
  },
  {
   "metadata": {
    "ExecuteTime": {
     "end_time": "2025-09-19T06:59:19.489895Z",
     "start_time": "2025-09-19T06:59:19.485539Z"
    }
   },
   "cell_type": "code",
   "source": [
    "check_train = y_train[y_train == 0].count()\n",
    "check_test = y_train[y_train == 0].count()\n",
    "if check_test == 0 and check_train == 0:\n",
    "    print(\"✅ No blank value from train & test target/ label\")\n",
    "print(y_train[:10])"
   ],
   "id": "ad8fa42a8dabd89d",
   "outputs": [
    {
     "name": "stdout",
     "output_type": "stream",
     "text": [
      "0    3\n",
      "1    5\n",
      "2    1\n",
      "3    2\n",
      "4    1\n",
      "5    1\n",
      "6    3\n",
      "7    4\n",
      "8    3\n",
      "9    5\n",
      "Name: categories, dtype: int64\n"
     ]
    }
   ],
   "execution_count": 3
  },
  {
   "metadata": {},
   "cell_type": "markdown",
   "source": "## 2.Embedding Data",
   "id": "dcbf5a93a18507ad"
  },
  {
   "metadata": {
    "ExecuteTime": {
     "end_time": "2025-09-19T07:50:56.700952Z",
     "start_time": "2025-09-19T07:45:07.742711Z"
    }
   },
   "cell_type": "code",
   "source": [
    "Xtrain_tfidf, Xtest_tfidf = tfidf_vectorizer(X_train=X_train, X_test=X_test)\n",
    "Xtrain_bow, Xtest_bow = bow_vectorizer(X_train=X_train, X_test=X_test)\n",
    "Xtrain_em, Xtest_em = embedding_vectorizer(X_train=X_train.tolist(), X_test=X_test.tolist())"
   ],
   "id": "134720f9243b02d6",
   "outputs": [
    {
     "name": "stdout",
     "output_type": "stream",
     "text": [
      "EmbeddingVectorizer initialized with model: intfloat/multilingual-e5-base on device: cpu\n"
     ]
    }
   ],
   "execution_count": 25
  },
  {
   "metadata": {},
   "cell_type": "markdown",
   "source": "## 3. Test Model",
   "id": "fe393ed91b8faeca"
  },
  {
   "metadata": {
    "ExecuteTime": {
     "end_time": "2025-09-19T07:37:03.863547Z",
     "start_time": "2025-09-19T07:37:03.861215Z"
    }
   },
   "cell_type": "code",
   "source": [
    "def decision_tree(X_train, X_test, y_train, y_test,\n",
    "                  param_grid=None):\n",
    "    \"\"\"\n",
    "\n",
    "\n",
    "    \"\"\"\n",
    "    if param_grid is None:\n",
    "        param_grid = {'max_depth': [3, 5, 10, 15, None],\n",
    "                      'min_samples_split': [2, 5, 10, 20],\n",
    "                      'min_samples_leaf': [1, 2, 5, 10],\n",
    "                      'criterion': ['gini', 'entropy'],\n",
    "                      'max_features': ['sqrt', 'log2', None]\n",
    "                      }\n",
    "    dtc = DecisionTreeClassifier(random_state=42)\n",
    "    dtc.fit(X_train, y_train)\n",
    "    y_pred = dtc.predict(X_test)\n",
    "    score = accuracy_score(y_test, y_pred)\n",
    "    report = classification_report(y_test, y_pred)\n",
    "\n",
    "    return y_pred, score, report\n"
   ],
   "id": "5040c35be6ddb584",
   "outputs": [],
   "execution_count": 21
  },
  {
   "metadata": {
    "ExecuteTime": {
     "end_time": "2025-09-19T07:59:14.470102Z",
     "start_time": "2025-09-19T07:59:14.466497Z"
    }
   },
   "cell_type": "code",
   "source": [
    "def random_forest_model(X_train, X_test, y_train, y_test,\n",
    "                        n_estimators: int=50,\n",
    "                        max_depth: int=5,\n",
    "                        random_state: int=42):\n",
    "    \"\"\"\n",
    "    Random Forest model shall learn the data from Vectorizers (TfIdf, BoW, EmbeddingVectorizer) then perfrom the trial on test set. After learning, from test set, the model will raise the error value then compare the performance of Random Forest to each method\n",
    "    :return accuracy report & classification report for model with each method\n",
    "    \"\"\"\n",
    "    rfc = RandomForestClassifier(n_estimators=n_estimators, random_state=random_state)\n",
    "    rfc.fit(X_train, y_train)\n",
    "    y_pred = rfc.predict(X_test)\n",
    "    report = classification_report(y_test, y_pred)\n",
    "    accuracy = accuracy_score(y_test, y_pred)\n",
    "    return y_pred, accuracy, report"
   ],
   "id": "eeaee0abaafab5f8",
   "outputs": [],
   "execution_count": 29
  },
  {
   "metadata": {
    "ExecuteTime": {
     "end_time": "2025-09-19T07:59:42.344929Z",
     "start_time": "2025-09-19T07:59:38.398848Z"
    }
   },
   "cell_type": "code",
   "source": [
    "_, tf_accuracy, tf_report = random_forest_model(Xtrain_tfidf, Xtest_tfidf, y_train, y_test)\n",
    "_, bow_accuracy, bow_report = random_forest_model(Xtrain_bow, Xtest_bow, y_train, y_test)\n",
    "_, em_accuracy, em_report = random_forest_model(Xtrain_em, Xtest_em, y_train, y_test)\n",
    "\n",
    "print(f\" TfIdf vectorizer with RF accuracy: {tf_accuracy}\")\n",
    "print(f\" Emb. vectorizer with RF accuracy: {em_accuracy}\")\n",
    "print(f\" BoW vectorizer with RF accuracy: {bow_accuracy}\")\n",
    "\n",
    "print(f\" TfIdf vectorizer with RF report: \\n{tf_report}\")\n",
    "print(f\" Emb. vectorizer with RF report: \\n{em_report}\")\n",
    "print(f\" BoW vectorizer with RF report: \\n{bow_report}\")"
   ],
   "id": "1db339c1eb159cfd",
   "outputs": [
    {
     "name": "stdout",
     "output_type": "stream",
     "text": [
      " TfIdf vectorizer with RF accuracy: 0.765\n",
      " Emb. vectorizer with RF accuracy: 0.81\n",
      " BoW vectorizer with RF accuracy: 0.74\n",
      " TfIdf vectorizer with RF report: \n",
      "              precision    recall  f1-score   support\n",
      "\n",
      "           0       0.00      0.00      0.00         9\n",
      "           1       0.93      0.86      0.89        59\n",
      "           2       0.73      0.73      0.73        75\n",
      "           3       0.86      0.86      0.86       113\n",
      "           4       0.66      0.94      0.77       109\n",
      "           5       0.00      0.00      0.00        35\n",
      "\n",
      "    accuracy                           0.77       400\n",
      "   macro avg       0.53      0.57      0.54       400\n",
      "weighted avg       0.70      0.77      0.72       400\n",
      "\n",
      " Emb. vectorizer with RF report: \n",
      "              precision    recall  f1-score   support\n",
      "\n",
      "           0       0.00      0.00      0.00         9\n",
      "           1       0.89      0.95      0.92        59\n",
      "           2       0.72      0.79      0.75        75\n",
      "           3       0.90      0.91      0.91       113\n",
      "           4       0.74      0.94      0.83       109\n",
      "           5       1.00      0.11      0.21        35\n",
      "\n",
      "    accuracy                           0.81       400\n",
      "   macro avg       0.71      0.62      0.60       400\n",
      "weighted avg       0.81      0.81      0.78       400\n",
      "\n",
      " BoW vectorizer with RF report: \n",
      "              precision    recall  f1-score   support\n",
      "\n",
      "           0       0.00      0.00      0.00         9\n",
      "           1       0.94      0.83      0.88        59\n",
      "           2       0.69      0.75      0.72        75\n",
      "           3       0.81      0.84      0.83       113\n",
      "           4       0.64      0.88      0.74       109\n",
      "           5       0.00      0.00      0.00        35\n",
      "\n",
      "    accuracy                           0.74       400\n",
      "   macro avg       0.51      0.55      0.53       400\n",
      "weighted avg       0.67      0.74      0.70       400\n",
      "\n"
     ]
    }
   ],
   "execution_count": 30
  },
  {
   "metadata": {
    "ExecuteTime": {
     "end_time": "2025-09-18T02:19:08.989633Z",
     "start_time": "2025-09-18T02:18:39.534618Z"
    }
   },
   "cell_type": "code",
   "source": [
    "adaboost = AdaBoostClassifier(n_estimators=100, random_state=42)\n",
    "adaboost.fit(Xtrain_tfidf, y_train)\n",
    "y_pred = adaboost.predict(Xtest_tfidf)\n",
    "print(classification_report(y_test, y_pred))\n",
    "print(accuracy_score(y_test, y_pred))"
   ],
   "id": "d01889a2de7b25b2",
   "outputs": [
    {
     "name": "stdout",
     "output_type": "stream",
     "text": [
      "              precision    recall  f1-score   support\n",
      "\n",
      "    astro-ph       0.94      0.58      0.72        59\n",
      "    cond-mat       0.56      0.41      0.48        75\n",
      "          cs       0.81      0.58      0.68       113\n",
      "        math       0.45      0.94      0.61       109\n",
      "     math-ph       0.00      0.00      0.00         9\n",
      "     physics       0.00      0.00      0.00        35\n",
      "\n",
      "    accuracy                           0.58       400\n",
      "   macro avg       0.46      0.42      0.41       400\n",
      "weighted avg       0.60      0.58      0.55       400\n",
      "\n",
      "0.585\n"
     ]
    },
    {
     "name": "stderr",
     "output_type": "stream",
     "text": [
      "/media/anhvt/DATA/_PyLIB_LINUX/.venv/lib/python3.12/site-packages/sklearn/metrics/_classification.py:1706: UndefinedMetricWarning: Precision is ill-defined and being set to 0.0 in labels with no predicted samples. Use `zero_division` parameter to control this behavior.\n",
      "  _warn_prf(average, modifier, f\"{metric.capitalize()} is\", result.shape[0])\n",
      "/media/anhvt/DATA/_PyLIB_LINUX/.venv/lib/python3.12/site-packages/sklearn/metrics/_classification.py:1706: UndefinedMetricWarning: Precision is ill-defined and being set to 0.0 in labels with no predicted samples. Use `zero_division` parameter to control this behavior.\n",
      "  _warn_prf(average, modifier, f\"{metric.capitalize()} is\", result.shape[0])\n",
      "/media/anhvt/DATA/_PyLIB_LINUX/.venv/lib/python3.12/site-packages/sklearn/metrics/_classification.py:1706: UndefinedMetricWarning: Precision is ill-defined and being set to 0.0 in labels with no predicted samples. Use `zero_division` parameter to control this behavior.\n",
      "  _warn_prf(average, modifier, f\"{metric.capitalize()} is\", result.shape[0])\n"
     ]
    }
   ],
   "execution_count": 20
  },
  {
   "metadata": {
    "ExecuteTime": {
     "end_time": "2025-09-18T02:20:12.920816Z",
     "start_time": "2025-09-18T02:19:44.181252Z"
    }
   },
   "cell_type": "code",
   "source": [
    "adaboost.fit(Xtrain_bow, y_train)\n",
    "y_pred = adaboost.predict(Xtest_bow)\n",
    "print(classification_report(y_test, y_pred))\n",
    "print(accuracy_score(y_test, y_pred))"
   ],
   "id": "de9d7f98c41762af",
   "outputs": [
    {
     "name": "stdout",
     "output_type": "stream",
     "text": [
      "              precision    recall  f1-score   support\n",
      "\n",
      "    astro-ph       0.98      0.69      0.81        59\n",
      "    cond-mat       0.71      0.47      0.56        75\n",
      "          cs       0.76      0.73      0.75       113\n",
      "        math       0.49      0.85      0.62       109\n",
      "     math-ph       0.00      0.00      0.00         9\n",
      "     physics       0.22      0.06      0.09        35\n",
      "\n",
      "    accuracy                           0.64       400\n",
      "   macro avg       0.53      0.47      0.47       400\n",
      "weighted avg       0.65      0.64      0.61       400\n",
      "\n",
      "0.635\n"
     ]
    }
   ],
   "execution_count": 21
  },
  {
   "metadata": {},
   "cell_type": "code",
   "outputs": [],
   "execution_count": null,
   "source": "",
   "id": "740ef5796aa89650"
  }
 ],
 "metadata": {
  "kernelspec": {
   "display_name": "Python 3",
   "language": "python",
   "name": "python3"
  },
  "language_info": {
   "codemirror_mode": {
    "name": "ipython",
    "version": 2
   },
   "file_extension": ".py",
   "mimetype": "text/x-python",
   "name": "python",
   "nbconvert_exporter": "python",
   "pygments_lexer": "ipython2",
   "version": "2.7.6"
  }
 },
 "nbformat": 4,
 "nbformat_minor": 5
}
