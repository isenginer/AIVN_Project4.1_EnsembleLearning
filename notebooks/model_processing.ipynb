{
 "cells": [
  {
   "metadata": {},
   "cell_type": "markdown",
   "source": [
    "# PROJECT 4.1 - ENSEMBLE LEARNING TECHNIQUE\n",
    "## `XGBoost, GradienBoost & Adaboost test`"
   ],
   "id": "f2243d2673091f46"
  },
  {
   "metadata": {},
   "cell_type": "markdown",
   "source": "## Load Library",
   "id": "9d2236e9ec669f90"
  },
  {
   "cell_type": "code",
   "id": "initial_id",
   "metadata": {
    "collapsed": true,
    "ExecuteTime": {
     "end_time": "2025-09-18T02:03:40.964183Z",
     "start_time": "2025-09-18T02:03:40.961317Z"
    }
   },
   "source": [
    "from sklearn.metrics import classification_report, accuracy_score, confusion_matrix\n",
    "from xgboost import XGBClassifier, XGBRegressor\n",
    "from sklearn.ensemble import GradientBoostingClassifier, RandomForestClassifier, AdaBoostClassifier, AdaBoostRegressor, GradientBoostingRegressor\n",
    "import lightgbm as lgb"
   ],
   "outputs": [],
   "execution_count": 7
  },
  {
   "metadata": {
    "ExecuteTime": {
     "end_time": "2025-09-18T02:04:43.299854Z",
     "start_time": "2025-09-18T02:04:43.294181Z"
    }
   },
   "cell_type": "code",
   "source": [
    "import pandas as pd\n",
    "import numpy as np\n",
    "from utils.EmbeddingVectorizer import tfidf_vectorizer, bow_vectorizer, EmbeddingVectorizer\n",
    "from utils.text_preprocessing import category_processing"
   ],
   "id": "35bc0bf659b8afea",
   "outputs": [],
   "execution_count": 10
  },
  {
   "metadata": {},
   "cell_type": "markdown",
   "source": "## 1. Import Data",
   "id": "52189769b38fe025"
  },
  {
   "metadata": {
    "ExecuteTime": {
     "end_time": "2025-09-18T02:07:18.465171Z",
     "start_time": "2025-09-18T02:07:18.448748Z"
    }
   },
   "cell_type": "code",
   "source": [
    "train_data = pd.read_csv(\"../dataset/train_data.csv\")\n",
    "test_data = pd.read_csv(\"../dataset/test_data.csv\")\n",
    "X_train = train_data.iloc[:, 0]\n",
    "X_test = test_data.iloc[:, 0]\n",
    "y_train = train_data.iloc[:, 1].map(category_processing)\n",
    "y_test = test_data.iloc[:, 1].map(category_processing)"
   ],
   "id": "41b69fc7ac124122",
   "outputs": [],
   "execution_count": 12
  },
  {
   "metadata": {},
   "cell_type": "markdown",
   "source": "Check the value of `y_train, y_test` to be converted to number & ensure no blank. If blank cell is available, we need to use `mean` or `prediction` this missing value",
   "id": "b8d1c46ed31eae96"
  },
  {
   "metadata": {
    "ExecuteTime": {
     "end_time": "2025-09-18T02:11:19.260522Z",
     "start_time": "2025-09-18T02:11:19.254878Z"
    }
   },
   "cell_type": "code",
   "source": [
    "check_train = y_train[y_train == 0].count()\n",
    "check_test = y_train[y_train == 0].count()\n",
    "if check_test == 0 and check_train == 0:\n",
    "    print(\"✅ No blank value from train & test target/ label\")\n",
    "print(y_train[:10])"
   ],
   "id": "ad8fa42a8dabd89d",
   "outputs": [
    {
     "name": "stdout",
     "output_type": "stream",
     "text": [
      "✅ No blank value from train & test target/ label\n",
      "0          cs\n",
      "1     physics\n",
      "2    astro-ph\n",
      "3    cond-mat\n",
      "4    astro-ph\n",
      "5    astro-ph\n",
      "6          cs\n",
      "7        math\n",
      "8          cs\n",
      "9     physics\n",
      "Name: categories, dtype: object\n"
     ]
    }
   ],
   "execution_count": 15
  },
  {
   "metadata": {},
   "cell_type": "markdown",
   "source": "## 2.Embedding Data",
   "id": "dcbf5a93a18507ad"
  },
  {
   "metadata": {
    "ExecuteTime": {
     "end_time": "2025-09-17T15:34:02.594263Z",
     "start_time": "2025-09-17T15:34:02.130399Z"
    }
   },
   "cell_type": "code",
   "source": [
    "Xtrain_tfidf, Xtest_tfidf = tfidf_vectorizer(X_train=X_train, X_test=X_test)\n",
    "Xtrain_bow, Xtest_bow = bow_vectorizer(X_train=X_train, X_test=X_test)"
   ],
   "id": "134720f9243b02d6",
   "outputs": [],
   "execution_count": 5
  },
  {
   "metadata": {
    "ExecuteTime": {
     "end_time": "2025-09-18T02:14:50.133144Z",
     "start_time": "2025-09-18T02:14:47.128222Z"
    }
   },
   "cell_type": "code",
   "source": [
    "rfc = RandomForestClassifier(n_estimators=100, random_state=42)\n",
    "rfc.fit(Xtrain_tfidf, y_train)\n",
    "y_pred = rfc.predict(Xtest_tfidf)\n",
    "print(classification_report(y_test, y_pred))\n",
    "print(accuracy_score(y_test, y_pred))"
   ],
   "id": "eeaee0abaafab5f8",
   "outputs": [
    {
     "name": "stdout",
     "output_type": "stream",
     "text": [
      "              precision    recall  f1-score   support\n",
      "\n",
      "    astro-ph       0.98      0.88      0.93        59\n",
      "    cond-mat       0.73      0.77      0.75        75\n",
      "          cs       0.86      0.85      0.85       113\n",
      "        math       0.65      0.93      0.76       109\n",
      "     math-ph       0.00      0.00      0.00         9\n",
      "     physics       0.00      0.00      0.00        35\n",
      "\n",
      "    accuracy                           0.77       400\n",
      "   macro avg       0.54      0.57      0.55       400\n",
      "weighted avg       0.70      0.77      0.73       400\n",
      "\n",
      "0.7675\n"
     ]
    },
    {
     "name": "stderr",
     "output_type": "stream",
     "text": [
      "/media/anhvt/DATA/_PyLIB_LINUX/.venv/lib/python3.12/site-packages/sklearn/metrics/_classification.py:1706: UndefinedMetricWarning: Precision is ill-defined and being set to 0.0 in labels with no predicted samples. Use `zero_division` parameter to control this behavior.\n",
      "  _warn_prf(average, modifier, f\"{metric.capitalize()} is\", result.shape[0])\n",
      "/media/anhvt/DATA/_PyLIB_LINUX/.venv/lib/python3.12/site-packages/sklearn/metrics/_classification.py:1706: UndefinedMetricWarning: Precision is ill-defined and being set to 0.0 in labels with no predicted samples. Use `zero_division` parameter to control this behavior.\n",
      "  _warn_prf(average, modifier, f\"{metric.capitalize()} is\", result.shape[0])\n",
      "/media/anhvt/DATA/_PyLIB_LINUX/.venv/lib/python3.12/site-packages/sklearn/metrics/_classification.py:1706: UndefinedMetricWarning: Precision is ill-defined and being set to 0.0 in labels with no predicted samples. Use `zero_division` parameter to control this behavior.\n",
      "  _warn_prf(average, modifier, f\"{metric.capitalize()} is\", result.shape[0])\n"
     ]
    }
   ],
   "execution_count": 18
  },
  {
   "metadata": {
    "ExecuteTime": {
     "end_time": "2025-09-18T02:15:40.519837Z",
     "start_time": "2025-09-18T02:15:37.376607Z"
    }
   },
   "cell_type": "code",
   "source": [
    "rfc.fit(Xtrain_bow, y_train)\n",
    "y_pred = rfc.predict(Xtest_bow)\n",
    "print(classification_report(y_test, y_pred))\n",
    "print(accuracy_score(y_test, y_pred))"
   ],
   "id": "1db339c1eb159cfd",
   "outputs": [
    {
     "name": "stdout",
     "output_type": "stream",
     "text": [
      "              precision    recall  f1-score   support\n",
      "\n",
      "    astro-ph       0.98      0.86      0.92        59\n",
      "    cond-mat       0.68      0.77      0.72        75\n",
      "          cs       0.85      0.84      0.84       113\n",
      "        math       0.66      0.92      0.77       109\n",
      "     math-ph       0.00      0.00      0.00         9\n",
      "     physics       0.00      0.00      0.00        35\n",
      "\n",
      "    accuracy                           0.76       400\n",
      "   macro avg       0.53      0.57      0.54       400\n",
      "weighted avg       0.69      0.76      0.72       400\n",
      "\n",
      "0.76\n"
     ]
    },
    {
     "name": "stderr",
     "output_type": "stream",
     "text": [
      "/media/anhvt/DATA/_PyLIB_LINUX/.venv/lib/python3.12/site-packages/sklearn/metrics/_classification.py:1706: UndefinedMetricWarning: Precision is ill-defined and being set to 0.0 in labels with no predicted samples. Use `zero_division` parameter to control this behavior.\n",
      "  _warn_prf(average, modifier, f\"{metric.capitalize()} is\", result.shape[0])\n",
      "/media/anhvt/DATA/_PyLIB_LINUX/.venv/lib/python3.12/site-packages/sklearn/metrics/_classification.py:1706: UndefinedMetricWarning: Precision is ill-defined and being set to 0.0 in labels with no predicted samples. Use `zero_division` parameter to control this behavior.\n",
      "  _warn_prf(average, modifier, f\"{metric.capitalize()} is\", result.shape[0])\n",
      "/media/anhvt/DATA/_PyLIB_LINUX/.venv/lib/python3.12/site-packages/sklearn/metrics/_classification.py:1706: UndefinedMetricWarning: Precision is ill-defined and being set to 0.0 in labels with no predicted samples. Use `zero_division` parameter to control this behavior.\n",
      "  _warn_prf(average, modifier, f\"{metric.capitalize()} is\", result.shape[0])\n"
     ]
    }
   ],
   "execution_count": 19
  },
  {
   "metadata": {
    "ExecuteTime": {
     "end_time": "2025-09-18T02:19:08.989633Z",
     "start_time": "2025-09-18T02:18:39.534618Z"
    }
   },
   "cell_type": "code",
   "source": [
    "adaboost = AdaBoostClassifier(n_estimators=100, random_state=42)\n",
    "adaboost.fit(Xtrain_tfidf, y_train)\n",
    "y_pred = adaboost.predict(Xtest_tfidf)\n",
    "print(classification_report(y_test, y_pred))\n",
    "print(accuracy_score(y_test, y_pred))"
   ],
   "id": "d01889a2de7b25b2",
   "outputs": [
    {
     "name": "stdout",
     "output_type": "stream",
     "text": [
      "              precision    recall  f1-score   support\n",
      "\n",
      "    astro-ph       0.94      0.58      0.72        59\n",
      "    cond-mat       0.56      0.41      0.48        75\n",
      "          cs       0.81      0.58      0.68       113\n",
      "        math       0.45      0.94      0.61       109\n",
      "     math-ph       0.00      0.00      0.00         9\n",
      "     physics       0.00      0.00      0.00        35\n",
      "\n",
      "    accuracy                           0.58       400\n",
      "   macro avg       0.46      0.42      0.41       400\n",
      "weighted avg       0.60      0.58      0.55       400\n",
      "\n",
      "0.585\n"
     ]
    },
    {
     "name": "stderr",
     "output_type": "stream",
     "text": [
      "/media/anhvt/DATA/_PyLIB_LINUX/.venv/lib/python3.12/site-packages/sklearn/metrics/_classification.py:1706: UndefinedMetricWarning: Precision is ill-defined and being set to 0.0 in labels with no predicted samples. Use `zero_division` parameter to control this behavior.\n",
      "  _warn_prf(average, modifier, f\"{metric.capitalize()} is\", result.shape[0])\n",
      "/media/anhvt/DATA/_PyLIB_LINUX/.venv/lib/python3.12/site-packages/sklearn/metrics/_classification.py:1706: UndefinedMetricWarning: Precision is ill-defined and being set to 0.0 in labels with no predicted samples. Use `zero_division` parameter to control this behavior.\n",
      "  _warn_prf(average, modifier, f\"{metric.capitalize()} is\", result.shape[0])\n",
      "/media/anhvt/DATA/_PyLIB_LINUX/.venv/lib/python3.12/site-packages/sklearn/metrics/_classification.py:1706: UndefinedMetricWarning: Precision is ill-defined and being set to 0.0 in labels with no predicted samples. Use `zero_division` parameter to control this behavior.\n",
      "  _warn_prf(average, modifier, f\"{metric.capitalize()} is\", result.shape[0])\n"
     ]
    }
   ],
   "execution_count": 20
  },
  {
   "metadata": {
    "ExecuteTime": {
     "end_time": "2025-09-18T02:20:12.920816Z",
     "start_time": "2025-09-18T02:19:44.181252Z"
    }
   },
   "cell_type": "code",
   "source": [
    "adaboost.fit(Xtrain_bow, y_train)\n",
    "y_pred = adaboost.predict(Xtest_bow)\n",
    "print(classification_report(y_test, y_pred))\n",
    "print(accuracy_score(y_test, y_pred))"
   ],
   "id": "de9d7f98c41762af",
   "outputs": [
    {
     "name": "stdout",
     "output_type": "stream",
     "text": [
      "              precision    recall  f1-score   support\n",
      "\n",
      "    astro-ph       0.98      0.69      0.81        59\n",
      "    cond-mat       0.71      0.47      0.56        75\n",
      "          cs       0.76      0.73      0.75       113\n",
      "        math       0.49      0.85      0.62       109\n",
      "     math-ph       0.00      0.00      0.00         9\n",
      "     physics       0.22      0.06      0.09        35\n",
      "\n",
      "    accuracy                           0.64       400\n",
      "   macro avg       0.53      0.47      0.47       400\n",
      "weighted avg       0.65      0.64      0.61       400\n",
      "\n",
      "0.635\n"
     ]
    }
   ],
   "execution_count": 21
  },
  {
   "metadata": {},
   "cell_type": "code",
   "outputs": [],
   "execution_count": null,
   "source": "",
   "id": "740ef5796aa89650"
  }
 ],
 "metadata": {
  "kernelspec": {
   "display_name": "Python 3",
   "language": "python",
   "name": "python3"
  },
  "language_info": {
   "codemirror_mode": {
    "name": "ipython",
    "version": 2
   },
   "file_extension": ".py",
   "mimetype": "text/x-python",
   "name": "python",
   "nbconvert_exporter": "python",
   "pygments_lexer": "ipython2",
   "version": "2.7.6"
  }
 },
 "nbformat": 4,
 "nbformat_minor": 5
}
