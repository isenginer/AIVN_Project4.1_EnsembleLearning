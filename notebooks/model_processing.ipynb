{
 "cells": [
  {
   "metadata": {},
   "cell_type": "markdown",
   "source": [
    "# PROJECT 4.1 - ENSEMBLE LEARNING TECHNIQUE\n",
    "## `XGBoost, GradienBoost & Adaboost test`"
   ],
   "id": "f2243d2673091f46"
  },
  {
   "metadata": {},
   "cell_type": "markdown",
   "source": "## Load Library",
   "id": "9d2236e9ec669f90"
  },
  {
   "cell_type": "code",
   "id": "initial_id",
   "metadata": {
    "collapsed": true,
    "ExecuteTime": {
     "end_time": "2025-09-19T06:46:38.516023Z",
     "start_time": "2025-09-19T06:46:38.513629Z"
    }
   },
   "source": [
    "import matplotlib.pyplot as plt\n",
    "from sklearn.metrics import classification_report, accuracy_score, confusion_matrix\n",
    "from xgboost import XGBClassifier, XGBRegressor\n",
    "from sklearn.ensemble import GradientBoostingClassifier, RandomForestClassifier, AdaBoostClassifier, AdaBoostRegressor, GradientBoostingRegressor\n",
    "import lightgbm as lgb"
   ],
   "outputs": [],
   "execution_count": 55
  },
  {
   "metadata": {
    "ExecuteTime": {
     "end_time": "2025-09-19T06:49:19.060237Z",
     "start_time": "2025-09-19T06:49:19.033646Z"
    }
   },
   "cell_type": "code",
   "source": [
    "import pandas as pd\n",
    "import numpy as np\n",
    "from utils.EmbeddingVectorizer import tfidf_vectorizer, bow_vectorizer, EmbeddingVectorizer\n",
    "from utils.text_preprocessing import category_numerical"
   ],
   "id": "35bc0bf659b8afea",
   "outputs": [
    {
     "ename": "ImportError",
     "evalue": "cannot import name 'category_numerical' from 'utils.text_preprocessing' (/media/anhvt/DATA/10_AIO_VN/AIOVN_Main/Project 4.1_Ensemble Learning/utils/text_preprocessing.py)",
     "output_type": "error",
     "traceback": [
      "\u001B[31m---------------------------------------------------------------------------\u001B[39m",
      "\u001B[31mImportError\u001B[39m                               Traceback (most recent call last)",
      "\u001B[36mCell\u001B[39m\u001B[36m \u001B[39m\u001B[32mIn[58]\u001B[39m\u001B[32m, line 4\u001B[39m\n\u001B[32m      2\u001B[39m \u001B[38;5;28;01mimport\u001B[39;00m \u001B[34;01mnumpy\u001B[39;00m \u001B[38;5;28;01mas\u001B[39;00m \u001B[34;01mnp\u001B[39;00m\n\u001B[32m      3\u001B[39m \u001B[38;5;28;01mfrom\u001B[39;00m \u001B[34;01mutils\u001B[39;00m\u001B[34;01m.\u001B[39;00m\u001B[34;01mEmbeddingVectorizer\u001B[39;00m \u001B[38;5;28;01mimport\u001B[39;00m tfidf_vectorizer, bow_vectorizer, EmbeddingVectorizer\n\u001B[32m----> \u001B[39m\u001B[32m4\u001B[39m \u001B[38;5;28;01mfrom\u001B[39;00m \u001B[34;01mutils\u001B[39;00m\u001B[34;01m.\u001B[39;00m\u001B[34;01mtext_preprocessing\u001B[39;00m \u001B[38;5;28;01mimport\u001B[39;00m category_numerical\n",
      "\u001B[31mImportError\u001B[39m: cannot import name 'category_numerical' from 'utils.text_preprocessing' (/media/anhvt/DATA/10_AIO_VN/AIOVN_Main/Project 4.1_Ensemble Learning/utils/text_preprocessing.py)"
     ]
    }
   ],
   "execution_count": 58
  },
  {
   "metadata": {},
   "cell_type": "markdown",
   "source": "## 1. Import Data",
   "id": "52189769b38fe025"
  },
  {
   "metadata": {
    "ExecuteTime": {
     "end_time": "2025-09-19T06:42:21.346219Z",
     "start_time": "2025-09-19T06:42:21.328937Z"
    }
   },
   "cell_type": "code",
   "source": [
    "train_data = pd.read_csv(\"../dataset/train_data.csv\")\n",
    "test_data = pd.read_csv(\"../dataset/test_data.csv\")\n",
    "X_train = train_data.iloc[:, 0]\n",
    "X_test = test_data.iloc[:, 0]\n",
    "y_train = train_data.iloc[:, 1].map(category_numerical)\n",
    "y_test = test_data.iloc[:, 1].map(category_numerical)"
   ],
   "id": "41b69fc7ac124122",
   "outputs": [],
   "execution_count": 53
  },
  {
   "metadata": {},
   "cell_type": "markdown",
   "source": "Check the value of `y_train, y_test` to be converted to number & ensure no blank. If blank cell is available, we need to use `mean` or `prediction` this missing value",
   "id": "b8d1c46ed31eae96"
  },
  {
   "metadata": {
    "ExecuteTime": {
     "end_time": "2025-09-19T06:42:24.594182Z",
     "start_time": "2025-09-19T06:42:24.590311Z"
    }
   },
   "cell_type": "code",
   "source": [
    "check_train = y_train[y_train == 0].count()\n",
    "check_test = y_train[y_train == 0].count()\n",
    "if check_test == 0 and check_train == 0:\n",
    "    print(\"✅ No blank value from train & test target/ label\")\n",
    "print(y_train[:10])"
   ],
   "id": "ad8fa42a8dabd89d",
   "outputs": [
    {
     "name": "stdout",
     "output_type": "stream",
     "text": [
      "✅ No blank value from train & test target/ label\n",
      "0          cs\n",
      "1     physics\n",
      "2    astro-ph\n",
      "3    cond-mat\n",
      "4    astro-ph\n",
      "5    astro-ph\n",
      "6          cs\n",
      "7        math\n",
      "8          cs\n",
      "9     physics\n",
      "Name: categories, dtype: object\n"
     ]
    }
   ],
   "execution_count": 54
  },
  {
   "metadata": {},
   "cell_type": "markdown",
   "source": "## 2.Embedding Data",
   "id": "dcbf5a93a18507ad"
  },
  {
   "metadata": {
    "ExecuteTime": {
     "end_time": "2025-09-18T12:33:03.517861Z",
     "start_time": "2025-09-18T12:33:03.039336Z"
    }
   },
   "cell_type": "code",
   "source": [
    "Xtrain_tfidf, Xtest_tfidf = tfidf_vectorizer(X_train=X_train, X_test=X_test)\n",
    "Xtrain_bow, Xtest_bow = bow_vectorizer(X_train=X_train, X_test=X_test)"
   ],
   "id": "134720f9243b02d6",
   "outputs": [],
   "execution_count": 26
  },
  {
   "metadata": {},
   "cell_type": "markdown",
   "source": "## 3. Test Model",
   "id": "fe393ed91b8faeca"
  },
  {
   "metadata": {
    "ExecuteTime": {
     "end_time": "2025-09-19T04:27:28.705222Z",
     "start_time": "2025-09-19T04:27:28.702354Z"
    }
   },
   "cell_type": "code",
   "source": [
    "def random_forest_model(X_train, X_test, y_train, y_test,\n",
    "                        n_estimators: int=50,\n",
    "                        max_depth: int=3,\n",
    "                        random_state: int=42):\n",
    "    \"\"\"\n",
    "    Random Forest model shall learn the data from Vectorizers (TfIdf, BoW, EmbeddingVectorizer) then perfrom the trial on test set. After learning, from test set, the model will raise the error value then compare the performance of Random Forest to each method\n",
    "    :return accuracy report & classification report for model with each method\n",
    "    \"\"\"\n",
    "    rfc = RandomForestClassifier(n_estimators=n_estimators, random_state=random_state)\n",
    "    rfc.fit(X_train, y_train)\n",
    "    y_pred = rfc.predict(X_test)\n",
    "    report = classification_report(y_test, y_pred, target_names=y_train.sort_values(), output_dict=True)\n",
    "    accuracy = accuracy_score(y_test, y_pred)\n",
    "    return y_pred, accuracy, report"
   ],
   "id": "eeaee0abaafab5f8",
   "outputs": [],
   "execution_count": 43
  },
  {
   "metadata": {
    "ExecuteTime": {
     "end_time": "2025-09-19T04:27:32.854765Z",
     "start_time": "2025-09-19T04:27:31.294134Z"
    }
   },
   "cell_type": "code",
   "source": [
    "y_pred, accuracy, report = random_forest_model(Xtrain_tfidf, Xtest_tfidf, y_train, y_test)\n",
    "print(f\" RF accuracy: {accuracy}\")\n",
    "print(f\" RF classification report: {report}\")"
   ],
   "id": "1db339c1eb159cfd",
   "outputs": [
    {
     "ename": "TypeError",
     "evalue": "'str' object is not callable",
     "output_type": "error",
     "traceback": [
      "\u001B[31m---------------------------------------------------------------------------\u001B[39m",
      "\u001B[31mTypeError\u001B[39m                                 Traceback (most recent call last)",
      "\u001B[36mCell\u001B[39m\u001B[36m \u001B[39m\u001B[32mIn[44]\u001B[39m\u001B[32m, line 1\u001B[39m\n\u001B[32m----> \u001B[39m\u001B[32m1\u001B[39m y_pred, accuracy, report = \u001B[43mrandom_forest_model\u001B[49m\u001B[43m(\u001B[49m\u001B[43mXtrain_tfidf\u001B[49m\u001B[43m,\u001B[49m\u001B[43m \u001B[49m\u001B[43mXtest_tfidf\u001B[49m\u001B[43m,\u001B[49m\u001B[43m \u001B[49m\u001B[43my_train\u001B[49m\u001B[43m,\u001B[49m\u001B[43m \u001B[49m\u001B[43my_test\u001B[49m\u001B[43m)\u001B[49m\n\u001B[32m      2\u001B[39m \u001B[38;5;28mprint\u001B[39m(\u001B[33mf\u001B[39m\u001B[33m\"\u001B[39m\u001B[33m RF accuracy: \u001B[39m\u001B[38;5;132;01m{\u001B[39;00maccuracy\u001B[38;5;132;01m}\u001B[39;00m\u001B[33m\"\u001B[39m)\n\u001B[32m      3\u001B[39m \u001B[38;5;28mprint\u001B[39m(\u001B[33mf\u001B[39m\u001B[33m\"\u001B[39m\u001B[33m RF classification report: \u001B[39m\u001B[38;5;132;01m{\u001B[39;00mreport\u001B[38;5;132;01m}\u001B[39;00m\u001B[33m\"\u001B[39m)\n",
      "\u001B[36mCell\u001B[39m\u001B[36m \u001B[39m\u001B[32mIn[43]\u001B[39m\u001B[32m, line 12\u001B[39m, in \u001B[36mrandom_forest_model\u001B[39m\u001B[34m(X_train, X_test, y_train, y_test, n_estimators, max_depth, random_state)\u001B[39m\n\u001B[32m     10\u001B[39m rfc.fit(X_train, y_train)\n\u001B[32m     11\u001B[39m y_pred = rfc.predict(X_test)\n\u001B[32m---> \u001B[39m\u001B[32m12\u001B[39m report = \u001B[43mclassification_report\u001B[49m\u001B[43m(\u001B[49m\u001B[43my_test\u001B[49m\u001B[43m,\u001B[49m\u001B[43m \u001B[49m\u001B[43my_pred\u001B[49m\u001B[43m,\u001B[49m\u001B[43m \u001B[49m\u001B[43mtarget_names\u001B[49m\u001B[43m=\u001B[49m\u001B[43my_train\u001B[49m\u001B[43m.\u001B[49m\u001B[43msort_values\u001B[49m\u001B[43m(\u001B[49m\u001B[43m)\u001B[49m\u001B[43m,\u001B[49m\u001B[43m \u001B[49m\u001B[43moutput_dict\u001B[49m\u001B[43m=\u001B[49m\u001B[38;5;28;43;01mTrue\u001B[39;49;00m\u001B[43m)\u001B[49m\n\u001B[32m     13\u001B[39m accuracy = accuracy_score(y_test, y_pred)\n\u001B[32m     14\u001B[39m \u001B[38;5;28;01mreturn\u001B[39;00m y_pred, accuracy, report\n",
      "\u001B[31mTypeError\u001B[39m: 'str' object is not callable"
     ]
    }
   ],
   "execution_count": 44
  },
  {
   "metadata": {
    "ExecuteTime": {
     "end_time": "2025-09-18T02:19:08.989633Z",
     "start_time": "2025-09-18T02:18:39.534618Z"
    }
   },
   "cell_type": "code",
   "source": [
    "adaboost = AdaBoostClassifier(n_estimators=100, random_state=42)\n",
    "adaboost.fit(Xtrain_tfidf, y_train)\n",
    "y_pred = adaboost.predict(Xtest_tfidf)\n",
    "print(classification_report(y_test, y_pred))\n",
    "print(accuracy_score(y_test, y_pred))"
   ],
   "id": "d01889a2de7b25b2",
   "outputs": [
    {
     "name": "stdout",
     "output_type": "stream",
     "text": [
      "              precision    recall  f1-score   support\n",
      "\n",
      "    astro-ph       0.94      0.58      0.72        59\n",
      "    cond-mat       0.56      0.41      0.48        75\n",
      "          cs       0.81      0.58      0.68       113\n",
      "        math       0.45      0.94      0.61       109\n",
      "     math-ph       0.00      0.00      0.00         9\n",
      "     physics       0.00      0.00      0.00        35\n",
      "\n",
      "    accuracy                           0.58       400\n",
      "   macro avg       0.46      0.42      0.41       400\n",
      "weighted avg       0.60      0.58      0.55       400\n",
      "\n",
      "0.585\n"
     ]
    },
    {
     "name": "stderr",
     "output_type": "stream",
     "text": [
      "/media/anhvt/DATA/_PyLIB_LINUX/.venv/lib/python3.12/site-packages/sklearn/metrics/_classification.py:1706: UndefinedMetricWarning: Precision is ill-defined and being set to 0.0 in labels with no predicted samples. Use `zero_division` parameter to control this behavior.\n",
      "  _warn_prf(average, modifier, f\"{metric.capitalize()} is\", result.shape[0])\n",
      "/media/anhvt/DATA/_PyLIB_LINUX/.venv/lib/python3.12/site-packages/sklearn/metrics/_classification.py:1706: UndefinedMetricWarning: Precision is ill-defined and being set to 0.0 in labels with no predicted samples. Use `zero_division` parameter to control this behavior.\n",
      "  _warn_prf(average, modifier, f\"{metric.capitalize()} is\", result.shape[0])\n",
      "/media/anhvt/DATA/_PyLIB_LINUX/.venv/lib/python3.12/site-packages/sklearn/metrics/_classification.py:1706: UndefinedMetricWarning: Precision is ill-defined and being set to 0.0 in labels with no predicted samples. Use `zero_division` parameter to control this behavior.\n",
      "  _warn_prf(average, modifier, f\"{metric.capitalize()} is\", result.shape[0])\n"
     ]
    }
   ],
   "execution_count": 20
  },
  {
   "metadata": {
    "ExecuteTime": {
     "end_time": "2025-09-18T02:20:12.920816Z",
     "start_time": "2025-09-18T02:19:44.181252Z"
    }
   },
   "cell_type": "code",
   "source": [
    "adaboost.fit(Xtrain_bow, y_train)\n",
    "y_pred = adaboost.predict(Xtest_bow)\n",
    "print(classification_report(y_test, y_pred))\n",
    "print(accuracy_score(y_test, y_pred))"
   ],
   "id": "de9d7f98c41762af",
   "outputs": [
    {
     "name": "stdout",
     "output_type": "stream",
     "text": [
      "              precision    recall  f1-score   support\n",
      "\n",
      "    astro-ph       0.98      0.69      0.81        59\n",
      "    cond-mat       0.71      0.47      0.56        75\n",
      "          cs       0.76      0.73      0.75       113\n",
      "        math       0.49      0.85      0.62       109\n",
      "     math-ph       0.00      0.00      0.00         9\n",
      "     physics       0.22      0.06      0.09        35\n",
      "\n",
      "    accuracy                           0.64       400\n",
      "   macro avg       0.53      0.47      0.47       400\n",
      "weighted avg       0.65      0.64      0.61       400\n",
      "\n",
      "0.635\n"
     ]
    }
   ],
   "execution_count": 21
  },
  {
   "metadata": {},
   "cell_type": "code",
   "outputs": [],
   "execution_count": null,
   "source": "",
   "id": "740ef5796aa89650"
  }
 ],
 "metadata": {
  "kernelspec": {
   "display_name": "Python 3",
   "language": "python",
   "name": "python3"
  },
  "language_info": {
   "codemirror_mode": {
    "name": "ipython",
    "version": 2
   },
   "file_extension": ".py",
   "mimetype": "text/x-python",
   "name": "python",
   "nbconvert_exporter": "python",
   "pygments_lexer": "ipython2",
   "version": "2.7.6"
  }
 },
 "nbformat": 4,
 "nbformat_minor": 5
}
